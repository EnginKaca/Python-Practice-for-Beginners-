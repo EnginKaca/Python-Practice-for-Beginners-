{
  "nbformat": 4,
  "nbformat_minor": 0,
  "metadata": {
    "anaconda-cloud": {},
    "kernelspec": {
      "display_name": "Python 3",
      "language": "python",
      "name": "python3"
    },
    "language_info": {
      "codemirror_mode": {
        "name": "ipython",
        "version": 3
      },
      "file_extension": ".py",
      "mimetype": "text/x-python",
      "name": "python",
      "nbconvert_exporter": "python",
      "pygments_lexer": "ipython3",
      "version": "3.5.1"
    },
    "colab": {
      "name": "Mod2_2-2.4_Intro_Python.ipynb",
      "provenance": [],
      "collapsed_sections": [],
      "include_colab_link": true
    }
  },
  "cells": [
    {
      "cell_type": "markdown",
      "metadata": {
        "id": "view-in-github",
        "colab_type": "text"
      },
      "source": [
        "<a href=\"https://colab.research.google.com/github/EnginKaca/Python-Practice-for-Beginners-/blob/master/Microsoft_Introduction_to_Python_Practice_on_Lists_and_Pop_Remove%20and%20Del%20_(with_solutions).ipynb\" target=\"_parent\"><img src=\"https://colab.research.google.com/assets/colab-badge.svg\" alt=\"Open In Colab\"/></a>"
      ]
    },
    {
      "cell_type": "markdown",
      "metadata": {
        "id": "2GV1f1NixE1V",
        "colab_type": "text"
      },
      "source": [
        "# 2-2.4 Intro Python\n",
        "## Lists \n",
        "- List Creation\n",
        "- List Access\n",
        "- List Append\n",
        "- List Insert\n",
        "- **List Delete (`del`, `.pop()` & `.remove()`)**\n",
        "\n",
        "----- \n",
        "\n",
        "><font size=\"5\" color=\"#00A0B2\"  face=\"verdana\"> <B>Student will be able to</B></font>  \n",
        "- Create Lists\n",
        "- Access items in a list\n",
        "- Add Items to the end of a list\n",
        "- Insert items into a list\n",
        "- **Delete items from a list with `del`, `.pop()` & `.remove()`**"
      ]
    },
    {
      "cell_type": "markdown",
      "metadata": {
        "id": "ZSLoPCY-xE1c",
        "colab_type": "text"
      },
      "source": [
        "# &nbsp;\n",
        "<font size=\"6\" color=\"#00A0B2\"  face=\"verdana\"> <B>Concepts</B></font>\n",
        "## Delete a specific List index\n",
        "[![view video](https://iajupyterprodblobs.blob.core.windows.net/imagecontainer/common/play_video.png)]( http://edxinteractivepage.blob.core.windows.net/edxpages/f7cff1a7-5601-48a1-95a6-fd1fdfabd20e.html?details=[{\"src\":\"http://jupyternootbookwams.streaming.mediaservices.windows.net/072d8761-7811-438e-a77f-72c9634c0f8c/Unit2_Section2.4a-Deleting_Specific_Index.ism/manifest\",\"type\":\"application/vnd.ms-sstr+xml\"}],[{\"src\":\"http://jupyternootbookwams.streaming.mediaservices.windows.net/072d8761-7811-438e-a77f-72c9634c0f8c/Unit2_Section2.4a-Deleting_Specific_Index.vtt\",\"srclang\":\"en\",\"kind\":\"subtitles\",\"label\":\"english\"}])\n",
        "### `del ` statement  \n",
        "```python\n",
        "del party_list[2]\n",
        "```"
      ]
    },
    {
      "cell_type": "markdown",
      "metadata": {
        "id": "kRqvWaD6xE1h",
        "colab_type": "text"
      },
      "source": [
        "# &nbsp;\n",
        "<font size=\"6\" color=\"#00A0B2\"  face=\"verdana\"> <B>Examples</B></font>"
      ]
    },
    {
      "cell_type": "code",
      "metadata": {
        "id": "GY0IbtUdxE1m",
        "colab_type": "code",
        "colab": {}
      },
      "source": [
        "# [ ] review and run example\n",
        "# the list before delete\n",
        "sample_list = [11, 21, 13, 14, 51, 161, 117, 181]\n",
        "print(\"sample_list before: \", sample_list)\n",
        "\n",
        "del sample_list[1]\n",
        "# the list after delete\n",
        "print(\"sample_list after:  \", sample_list)"
      ],
      "execution_count": null,
      "outputs": []
    },
    {
      "cell_type": "code",
      "metadata": {
        "id": "CQvuAuvIxE15",
        "colab_type": "code",
        "colab": {}
      },
      "source": [
        "# [ ] review and run example Multiple Times\n",
        "# [ ] consider how to reset the list values?\n",
        "print(\"sample_list before:\", sample_list)\n",
        "del sample_list[0]\n",
        "print(\"sample_list after:\", sample_list)"
      ],
      "execution_count": null,
      "outputs": []
    },
    {
      "cell_type": "code",
      "metadata": {
        "id": "6WC2hzrCxE2E",
        "colab_type": "code",
        "colab": {}
      },
      "source": [
        "# [ ] review and run example\n",
        "mixed_types = [1, \"cat\"]\n",
        "# append number\n",
        "mixed_types.append(3)\n",
        "print(\"mixed_types list: \", mixed_types)\n",
        "\n",
        "# append string\n",
        "mixed_types.append(\"turtle\")\n",
        "print(\"mixed_types list: \", mixed_types)"
      ],
      "execution_count": null,
      "outputs": []
    },
    {
      "cell_type": "markdown",
      "metadata": {
        "collapsed": true,
        "id": "yfNWlpBKxE2L",
        "colab_type": "text"
      },
      "source": [
        "# &nbsp;\n",
        "<font size=\"6\" color=\"#B24C00\"  face=\"verdana\"> <B>Task 1</B></font>\n",
        "\n",
        "## `del` statement"
      ]
    },
    {
      "cell_type": "code",
      "metadata": {
        "id": "Pg4OhtCxxE2P",
        "colab_type": "code",
        "colab": {}
      },
      "source": [
        "# [ ] print ft_bones list\n",
        "# [ ] delete \"cuboid\" from ft_bones\n",
        "# [ ] reprint list\n",
        "\n",
        "ft_bones = [\"calcaneus\", \"talus\", \"cuboid\", \"navicular\", \"lateral cuneiform\", \n",
        "            \"intermediate cuneiform\", \"medial cuneiform\"]"
      ],
      "execution_count": null,
      "outputs": []
    },
    {
      "cell_type": "code",
      "metadata": {
        "id": "uWXoGoHR_vTM",
        "colab_type": "code",
        "colab": {},
        "cellView": "form"
      },
      "source": [
        "#@title Click to see the solution\n",
        "ft_bones = [\"calcaneus\", \"talus\", \"cuboid\", \"navicular\", \"lateral cuneiform\", \n",
        "            \"intermediate cuneiform\", \"medial cuneiform\"]\n",
        "\n",
        "print (ft_bones)\n",
        "del ft_bones [2]\n",
        "print (ft_bones)"
      ],
      "execution_count": null,
      "outputs": []
    },
    {
      "cell_type": "markdown",
      "metadata": {
        "id": "L4spQJ4jxE2X",
        "colab_type": "text"
      },
      "source": [
        "# &nbsp;\n",
        "<font size=\"6\" color=\"#B24C00\"  face=\"verdana\"> <B>Task 2</B></font>  \n",
        "## multiple `del` statements "
      ]
    },
    {
      "cell_type": "code",
      "metadata": {
        "id": "elsgT5J_xE2Z",
        "colab_type": "code",
        "colab": {}
      },
      "source": [
        "# [ ] print ft_bones list\n",
        "# [ ] delete \"cuboid\" from ft_bones\n",
        "# [ ] delete \"navicular\" from list\n",
        "# [ ] reprint list\n",
        "# [ ] check for deletion of \"cuboid\" and \"navicular\"\n",
        "ft_bones = [\"calcaneus\", \"talus\", \"cuboid\", \"navicular\", \"lateral cuneiform\", \n",
        "            \"intermediate cuneiform\", \"medial cuneiform\"]"
      ],
      "execution_count": null,
      "outputs": []
    },
    {
      "cell_type": "code",
      "metadata": {
        "id": "cFLksJRWAJvX",
        "colab_type": "code",
        "colab": {},
        "cellView": "form"
      },
      "source": [
        "#@title Click to see the solution\n",
        "ft_bones = [\"calcaneus\", \"talus\", \"cuboid\", \"navicular\", \"lateral cuneiform\", \n",
        "            \"intermediate cuneiform\", \"medial cuneiform\"]\n",
        "print (ft_bones)\n",
        "del ft_bones [2:4]\n",
        "print (ft_bones)\n"
      ],
      "execution_count": null,
      "outputs": []
    },
    {
      "cell_type": "markdown",
      "metadata": {
        "id": "ymzuLQF0xE2h",
        "colab_type": "text"
      },
      "source": [
        "# &nbsp;\n",
        "<font size=\"6\" color=\"#00A0B2\"  face=\"verdana\"> <B>Concepts</B></font>\n",
        "## .pop() gets and deletes item in list\n",
        "[![view video](https://iajupyterprodblobs.blob.core.windows.net/imagecontainer/common/play_video.png)]( http://edxinteractivepage.blob.core.windows.net/edxpages/f7cff1a7-5601-48a1-95a6-fd1fdfabd20e.html?details=[{\"src\":\"http://jupyternootbookwams.streaming.mediaservices.windows.net/67b83f30-a92c-4d1f-a7a3-ca257dd4db4e/Unit2_Section2.4b-List_Pop_Method.ism/manifest\",\"type\":\"application/vnd.ms-sstr+xml\"}],[{\"src\":\"http://jupyternootbookwams.streaming.mediaservices.windows.net/67b83f30-a92c-4d1f-a7a3-ca257dd4db4e/Unit2_Section2.4b-List_Pop_Method.vtt\",\"srclang\":\"en\",\"kind\":\"subtitles\",\"label\":\"english\"}])\n",
        "### `.pop()`  method default is last item in a list\n",
        "```python\n",
        "last_item = party_list.pop()\n",
        "first_item = party_list.pop(0)\n",
        "```"
      ]
    },
    {
      "cell_type": "markdown",
      "metadata": {
        "id": "zQ8lUj9WxE2i",
        "colab_type": "text"
      },
      "source": [
        "# &nbsp;\n",
        "<font size=\"6\" color=\"#00A0B2\"  face=\"verdana\"> <B>Examples</B></font>"
      ]
    },
    {
      "cell_type": "code",
      "metadata": {
        "id": "6Sys1DuXxE2k",
        "colab_type": "code",
        "colab": {}
      },
      "source": [
        "# [ ] review and run example\n",
        "# pop() gets the last item by default\n",
        "party_list = [\"Joana\", \"Alton\", \"Tobias\"]\n",
        "print(party_list)\n",
        "print(\"Hello,\", party_list.pop())\n",
        "\n",
        "print(\"\\n\", party_list)\n",
        "print(\"Hello,\", party_list.pop())\n",
        "\n",
        "print(\"\\n\", party_list)\n",
        "print(\"Hello,\", party_list.pop())\n",
        "\n",
        "print(\"\\n\", party_list)"
      ],
      "execution_count": null,
      "outputs": []
    },
    {
      "cell_type": "code",
      "metadata": {
        "id": "i1t_f3tcxE2s",
        "colab_type": "code",
        "colab": {}
      },
      "source": [
        "# [ ] review and run example\n",
        "# can pop specific index like pop(3)\n",
        "number_list = [11, 21, 13, 14, 51, 161, 117, 181]\n",
        "print(\"before:\", number_list)\n",
        "number_list.pop(3)\n",
        "print(\"after :\", number_list)\n"
      ],
      "execution_count": null,
      "outputs": []
    },
    {
      "cell_type": "code",
      "metadata": {
        "id": "TnpoEjsIxE22",
        "colab_type": "code",
        "colab": {}
      },
      "source": [
        "# [ ] review and run example\n",
        "# set a variable to a poped value\n",
        "number_list = [11, 21, 13, 14, 51, 161, 117, 181]\n",
        "print(\"list before:\", number_list)\n",
        "num_1 = number_list.pop()\n",
        "num_2 = number_list.pop()\n",
        "print(\"list after :\", number_list)\n",
        "print(\"add the popped values:\", num_1 + num_2)"
      ],
      "execution_count": null,
      "outputs": []
    },
    {
      "cell_type": "markdown",
      "metadata": {
        "collapsed": true,
        "id": "EXpO616qxE28",
        "colab_type": "text"
      },
      "source": [
        "# &nbsp;\n",
        "<font size=\"6\" color=\"#B24C00\"  face=\"verdana\"> <B>Task 3</B></font>  \n",
        "## `pop()`"
      ]
    },
    {
      "cell_type": "code",
      "metadata": {
        "id": "lA4_v90AxE2-",
        "colab_type": "code",
        "colab": {}
      },
      "source": [
        "# [ ] pop() and print the first and last items from the ft_bones list\n",
        "ft_bones = [\"calcaneus\", \"talus\", \"cuboid\", \"navicular\", \"lateral cuneiform\", \n",
        "            \"intermediate cuneiform\", \"medial cuneiform\"]\n",
        "\n",
        "# [ ] print the remaining list"
      ],
      "execution_count": null,
      "outputs": []
    },
    {
      "cell_type": "code",
      "metadata": {
        "id": "3BnhKv_3APWI",
        "colab_type": "code",
        "colab": {},
        "cellView": "form"
      },
      "source": [
        "#@title Click to see the solution\n",
        "ft_bones = [\"calcaneus\", \"talus\", \"cuboid\", \"navicular\", \"lateral cuneiform\", \n",
        "            \"intermediate cuneiform\", \"medial cuneiform\"]\n",
        "\n",
        "print (ft_bones.pop(-1))\n",
        "print (ft_bones.pop(0))\n",
        "print (ft_bones)\n"
      ],
      "execution_count": null,
      "outputs": []
    },
    {
      "cell_type": "markdown",
      "metadata": {
        "id": "W-I8m1oqxE3G",
        "colab_type": "text"
      },
      "source": [
        "# &nbsp;\n",
        "<font size=\"6\" color=\"#00A0B2\"  face=\"verdana\"> <B>Concepts</B></font>\n",
        "## an empty list is False\n",
        "[![view video](https://iajupyterprodblobs.blob.core.windows.net/imagecontainer/common/play_video.png)]( http://edxinteractivepage.blob.core.windows.net/edxpages/f7cff1a7-5601-48a1-95a6-fd1fdfabd20e.html?details=[{\"src\":\"http://jupyternootbookwams.streaming.mediaservices.windows.net/20e00a13-a9d2-4a35-b75d-f6533fa15cbd/Unit2_Section2.4c-Empty_List_is_False.ism/manifest\",\"type\":\"application/vnd.ms-sstr+xml\"}],[{\"src\":\"http://jupyternootbookwams.streaming.mediaservices.windows.net/20e00a13-a9d2-4a35-b75d-f6533fa15cbd/Unit2_Section2.4c-Empty_List_is_False.vtt\",\"srclang\":\"en\",\"kind\":\"subtitles\",\"label\":\"english\"}])\n",
        "### in a conditional an empty list will evaluate `False`\n",
        "This allows creating a while loop that runs until a list is empty\n",
        "```python\n",
        "while dog_types: \n",
        "```"
      ]
    },
    {
      "cell_type": "markdown",
      "metadata": {
        "id": "jI6TH5qixE3I",
        "colab_type": "text"
      },
      "source": [
        "# &nbsp;\n",
        "<font size=\"6\" color=\"#00A0B2\"  face=\"verdana\"> <B>Example</B></font>"
      ]
    },
    {
      "cell_type": "code",
      "metadata": {
        "id": "SpPt5CaAxE3J",
        "colab_type": "code",
        "colab": {}
      },
      "source": [
        "dog_types = [\"Lab\", \"Pug\", \"Poodle\"]\n",
        "\n",
        "while dog_types: \n",
        "    print(dog_types.pop())"
      ],
      "execution_count": null,
      "outputs": []
    },
    {
      "cell_type": "markdown",
      "metadata": {
        "id": "9MHonNhlxE3S",
        "colab_type": "text"
      },
      "source": [
        "# &nbsp;\n",
        "<font size=\"6\" color=\"#B24C00\"  face=\"verdana\"> <B>Task 4 pt 1</B></font>\n",
        "# Cash Register Input\n",
        "- create a empty list `purchase_amounts`\n",
        "- populate the list with user input for the price of items\n",
        "- continue adding to list with `while` until \"done\" is entered\n",
        "  - can use `while True:` with `break`\n",
        "- print `purchase_amounts`\n",
        "- continue to pt 2"
      ]
    },
    {
      "cell_type": "code",
      "metadata": {
        "id": "V1X39r-gxE3U",
        "colab_type": "code",
        "colab": {}
      },
      "source": [
        "#[ ] complete the Register Input task above\n"
      ],
      "execution_count": null,
      "outputs": []
    },
    {
      "cell_type": "code",
      "metadata": {
        "id": "lpGusam6AUu-",
        "colab_type": "code",
        "colab": {},
        "cellView": "form"
      },
      "source": [
        "#@title Click to see the solution\n",
        "purchase_amounts = []\n",
        "x = input ('enter price: ')\n",
        "while True: \n",
        "  if x.lower().isalpha()==True:\n",
        "    if x.lower()== 'done':\n",
        "       print (purchase_amounts)\n",
        "       break\n",
        "    else:\n",
        "       print ('wrong entry')\n",
        "       x = input ('enter price: ')\n",
        "  elif x.lower()!='done':\n",
        "     purchase_amounts.append(float(x))\n",
        "     x = input ('enter price: ')\n",
        "  elif x.lower()=='done':\n",
        "     print (purchase_amounts)\n",
        "     break\n"
      ],
      "execution_count": null,
      "outputs": []
    },
    {
      "cell_type": "markdown",
      "metadata": {
        "id": "dZsp_uGKxE3b",
        "colab_type": "text"
      },
      "source": [
        "# &nbsp;\n",
        "<font size=\"6\" color=\"#B24C00\"  face=\"verdana\"> <B>Task 4 pt 2</B></font>\n",
        "# Cash Register Total\n",
        "- create a **`subtotal`** variable = 0\n",
        "create a while loop that runs **`while`** purchase_amount (is not empty)\n",
        "- inside the loop \n",
        "  - **`pop()`** the last list value cast as a float type\n",
        "  - add the float value to a **`subtotal`** variable\n",
        "- after exiting the loop print **`subtotal`**  \n",
        "  \n",
        "  *be sure to populate purchase_amounts by running pt 1 above*"
      ]
    },
    {
      "cell_type": "code",
      "metadata": {
        "id": "dya8b4uZxE3c",
        "colab_type": "code",
        "colab": {}
      },
      "source": [
        "# [ ] complete the Register Total task above\n"
      ],
      "execution_count": null,
      "outputs": []
    },
    {
      "cell_type": "code",
      "metadata": {
        "id": "NbYAu1GgAbJc",
        "colab_type": "code",
        "colab": {},
        "cellView": "code"
      },
      "source": [
        "#@title Click to see the solution\n",
        "subtotal=[]\n",
        "while purchase_amounts !=[]:\n",
        "  subtotal.append(float(purchase_amounts[-1]))\n",
        "  purchase_amounts.pop(-1)\n",
        "  print (purchase_amounts)\n",
        "\n",
        "print (sum(subtotal))"
      ],
      "execution_count": null,
      "outputs": []
    },
    {
      "cell_type": "markdown",
      "metadata": {
        "id": "TyRu-jFJxE3k",
        "colab_type": "text"
      },
      "source": [
        "# &nbsp;\n",
        "<font size=\"6\" color=\"#00A0B2\"  face=\"verdana\"> <B>Concepts</B></font>\n",
        "## Delete a specific object from a list with `.remove()`\n",
        "[![view video](https://iajupyterprodblobs.blob.core.windows.net/imagecontainer/common/play_video.png)]( http://edxinteractivepage.blob.core.windows.net/edxpages/f7cff1a7-5601-48a1-95a6-fd1fdfabd20e.html?details=[{\"src\":\"http://jupyternootbookwams.streaming.mediaservices.windows.net/31fadf38-670c-4ba9-aa68-1934db459c4d/Unit2_Section2.4d-Removing_Object_from_List.ism/manifest\",\"type\":\"application/vnd.ms-sstr+xml\"}],[{\"src\":\"http://jupyternootbookwams.streaming.mediaservices.windows.net/31fadf38-670c-4ba9-aa68-1934db459c4d/Unit2_Section2.4d-Removing_Object_from_List.vtt\",\"srclang\":\"en\",\"kind\":\"subtitles\",\"label\":\"english\"}])\n",
        "### `.remove(object)` removes the 1st item that matches\n",
        "\n",
        "```python\n",
        "dog_types.remove(\"Pug\")\n",
        "```\n",
        ">**`ValueError`** occurs if the object is not available to be removed  "
      ]
    },
    {
      "cell_type": "markdown",
      "metadata": {
        "id": "L7WvWbDwxE3m",
        "colab_type": "text"
      },
      "source": [
        "# &nbsp;\n",
        "<font size=\"6\" color=\"#00A0B2\"  face=\"verdana\"> <B>Examples</B></font>"
      ]
    },
    {
      "cell_type": "code",
      "metadata": {
        "id": "1rfDrgB-xE3n",
        "colab_type": "code",
        "colab": {}
      },
      "source": [
        "# [ ] review and run example\n",
        "dog_types = [\"Lab\", \"Pug\", \"Poodle\"]\n",
        "\n",
        "if \"Pug\" in dog_types:\n",
        "    dog_types.remove(\"Pug\")\n",
        "else:\n",
        "    print(\"no Pug found\")\n",
        "print(dog_types)"
      ],
      "execution_count": null,
      "outputs": []
    },
    {
      "cell_type": "code",
      "metadata": {
        "id": "cj3_hKusxE3u",
        "colab_type": "code",
        "colab": {}
      },
      "source": [
        "# [ ] review and run example\n",
        "dogs = [\"Lab\", \"Pug\", \"Poodle\", \"Poodle\", \"Pug\", \"Poodle\"]\n",
        "\n",
        "print(dogs)\n",
        "while \"Poodle\" in dogs:\n",
        "    dogs.remove(\"Poodle\")\n",
        "    print(dogs)"
      ],
      "execution_count": null,
      "outputs": []
    },
    {
      "cell_type": "markdown",
      "metadata": {
        "id": "gOVejBb8xE32",
        "colab_type": "text"
      },
      "source": [
        "### ValueError"
      ]
    },
    {
      "cell_type": "code",
      "metadata": {
        "id": "QHm00ijsxE33",
        "colab_type": "code",
        "colab": {}
      },
      "source": [
        "# [ ] review and run example\n",
        "# Change to \"Lab\", etc... to fix error\n",
        "dogs.remove(\"Collie\")\n",
        "print(dogs)"
      ],
      "execution_count": null,
      "outputs": []
    },
    {
      "cell_type": "markdown",
      "metadata": {
        "collapsed": true,
        "id": "8nmeZEA4xE3_",
        "colab_type": "text"
      },
      "source": [
        "# &nbsp;\n",
        "<font size=\"6\" color=\"#B24C00\"  face=\"verdana\"> <B>Task 5</B></font>  \n",
        "## `.remove()`"
      ]
    },
    {
      "cell_type": "code",
      "metadata": {
        "id": "6V6Vw-jtxE4A",
        "colab_type": "code",
        "colab": {}
      },
      "source": [
        "# [ ] remove one \"Poodle\" from the list: dogs , or print \"no Poodle found\"\n",
        "# [ ] print list before and after\n",
        "dogs = [\"Lab\", \"Pug\", \"Poodle\", \"Poodle\", \"Pug\", \"Poodle\"]\n",
        "\n"
      ],
      "execution_count": null,
      "outputs": []
    },
    {
      "cell_type": "code",
      "metadata": {
        "id": "9Op1JKI8Af-9",
        "colab_type": "code",
        "colab": {},
        "cellView": "form"
      },
      "source": [
        "#@title Click to see the solution\n",
        "dogs = [\"Lab\", \"Pug\", \"Poodle\", \"Poodle\", \"Pug\", \"Poodle\"]\n",
        "print (dogs)\n",
        "\n",
        "for x in dogs:\n",
        "  if x=='Poodle':\n",
        "    dogs.remove(x)\n",
        "    print (dogs)\n",
        "    break"
      ],
      "execution_count": null,
      "outputs": []
    },
    {
      "cell_type": "markdown",
      "metadata": {
        "id": "-EfO3fXzxE4J",
        "colab_type": "text"
      },
      "source": [
        "[Terms of use](http://go.microsoft.com/fwlink/?LinkID=206977) &nbsp; [Privacy & cookies](https://go.microsoft.com/fwlink/?LinkId=521839) &nbsp; © 2017 Microsoft"
      ]
    }
  ]
}