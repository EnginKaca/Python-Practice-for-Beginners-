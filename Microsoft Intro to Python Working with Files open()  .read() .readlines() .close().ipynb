{
  "nbformat": 4,
  "nbformat_minor": 0,
  "metadata": {
    "anaconda-cloud": {},
    "kernelspec": {
      "display_name": "Python 3",
      "language": "python",
      "name": "python3"
    },
    "language_info": {
      "codemirror_mode": {
        "name": "ipython",
        "version": 3
      },
      "file_extension": ".py",
      "mimetype": "text/x-python",
      "name": "python",
      "nbconvert_exporter": "python",
      "pygments_lexer": "ipython3",
      "version": "3.6.0"
    },
    "colab": {
      "name": "Mod4_2-4.2_Intro_Python.ipynb",
      "provenance": [],
      "include_colab_link": true
    }
  },
  "cells": [
    {
      "cell_type": "markdown",
      "metadata": {
        "id": "view-in-github",
        "colab_type": "text"
      },
      "source": [
        "<a href=\"https://colab.research.google.com/github/EnginKaca/Python-Practice-for-Beginners-/blob/master/Microsoft%20Intro%20to%20Python%20Working%20with%20Files%20open()%20%20.read()%20.readlines()%20.close().ipynb\" target=\"_parent\"><img src=\"https://colab.research.google.com/assets/colab-badge.svg\" alt=\"Open In Colab\"/></a>"
      ]
    },
    {
      "cell_type": "markdown",
      "metadata": {
        "id": "IDY9ryMViAgl",
        "colab_type": "text"
      },
      "source": [
        "# 2-4.2 Intro Python\n",
        "## Working with Files\n",
        "4.1 File import in Jupyter Notebooks  \n",
        "4.1 File **`open()`** and **`.read()`**  \n",
        "4.2 **File Read as a list with `.readlines()`**  \n",
        "4.2 **File Closing to free resources with `.close()`**  \n",
        "4.3 Remove characters using **`.strip()`**  \n",
        "4.3 File Read a line at a time with **`.readline()`**   \n",
        "4.4 File **`.write()`**  with **`.seek()`**  \n",
        "4.4 File append mode \n",
        "\n",
        "----- \n",
        "\n",
        "><font size=\"5\" color=\"#00A0B2\"  face=\"verdana\"> <B>Student will be able to</B></font>  \n",
        "4.1 Import files in Jupyter Notebooks using the curl command  \n",
        "4.1 **`open()`** and **`.read()`** local files in memory   \n",
        "4.1 **`.read(`)** a specific number of characters  \n",
        "4.2 **Use `.readlines()` to read text from files as a list of lines**  \n",
        "4.2 **Use `.close` to free system resources**  \n",
        "4.3 Use **`.readline()`** to read data from file a line at a time  \n",
        "4.3 Use **`.strip()`** to remove new line characters  \n",
        "4.4 **`.write()`** data to a new local file\n",
        "4.4 Use **`.seek()`** to set file read or write location  \n",
        "4.4 Use file append mode"
      ]
    },
    {
      "cell_type": "markdown",
      "metadata": {
        "id": "AjmwXFlbiAgn",
        "colab_type": "text"
      },
      "source": [
        "# &nbsp;\n",
        "<font size=\"6\" color=\"#00A0B2\"  face=\"verdana\"> <B>Concepts</B></font>\n",
        "## `.readlines()`\n",
        "[![view video](https://iajupyterprodblobs.blob.core.windows.net/imagecontainer/common/play_video.png)]( http://edxinteractivepage.blob.core.windows.net/edxpages/f7cff1a7-5601-48a1-95a6-fd1fdfabd20e.html?details=[{\"src\":\"http://jupyternootbookwams.streaming.mediaservices.windows.net/0cd43d02-5eac-40b5-ba2d-97f078415ddd/Unit2_Section4.2a-Readlines-Open_Text_as_List.ism/manifest\",\"type\":\"application/vnd.ms-sstr+xml\"}],[{\"src\":\"http://jupyternootbookwams.streaming.mediaservices.windows.net/0cd43d02-5eac-40b5-ba2d-97f078415ddd/Unit2_Section4.2a-Readlines-Open_Text_as_List.vtt\",\"srclang\":\"en\",\"kind\":\"subtitles\",\"label\":\"english\"}])\n",
        "\n",
        "### File read as a list with .readlines() \n",
        "converts the lines of a file into a **list** of strings\n",
        "\n",
        "```python\n",
        "poem_lines = poem1.readlines()\n",
        "```"
      ]
    },
    {
      "cell_type": "markdown",
      "metadata": {
        "id": "tcuX4BKXiAgq",
        "colab_type": "text"
      },
      "source": [
        "# &nbsp;\n",
        "<font size=\"6\" color=\"#00A0B2\"  face=\"verdana\"> <B>Examples</B></font>"
      ]
    },
    {
      "cell_type": "code",
      "metadata": {
        "scrolled": false,
        "id": "K6sp7Xe9iAgs",
        "colab_type": "code",
        "colab": {}
      },
      "source": [
        "# [ ] Run to download file to notebook\n",
        "!curl https://raw.githubusercontent.com/MicrosoftLearning/intropython/master/poem1.txt -o poem1.txt"
      ],
      "execution_count": null,
      "outputs": []
    },
    {
      "cell_type": "code",
      "metadata": {
        "id": "qjtIKHUeiAg0",
        "colab_type": "code",
        "colab": {}
      },
      "source": [
        "# [ ] review and run example\n",
        "# open address to file\n",
        "poem1 = open('poem1.txt', 'r')\n",
        "\n",
        "# readlines and print as a list\n",
        "poem_lines = poem1.readlines()\n",
        "poem_lines"
      ],
      "execution_count": null,
      "outputs": []
    },
    {
      "cell_type": "code",
      "metadata": {
        "id": "6mRwB0KsiAhA",
        "colab_type": "code",
        "colab": {}
      },
      "source": [
        "# [ ] review and run example\n",
        "for line in poem_lines:\n",
        "    print(line)"
      ],
      "execution_count": null,
      "outputs": []
    },
    {
      "cell_type": "markdown",
      "metadata": {
        "collapsed": true,
        "id": "8olKbjHyiAhL",
        "colab_type": "text"
      },
      "source": [
        "# &nbsp;\n",
        "<font size=\"6\" color=\"#B24C00\"  face=\"verdana\"> <B>Task 1</B></font>\n",
        "\n",
        "## `.readlines()` \n",
        "### open the cities file as a list\n",
        "1. **Import a list of cities using curl**  \n",
        "  a. git the list from https://raw.githubusercontent.com/MicrosoftLearning/intropython/master/cities  \n",
        "  b. name the list cities.txt  \n",
        "2. **Open cities.txt in read mode using a variable: cities_file**  \n",
        "3. **Read cities_file as a list variable: cities_lines using `.readlines()`**\n",
        "4. **Print each line of cities_lines by iterating the list**"
      ]
    },
    {
      "cell_type": "code",
      "metadata": {
        "id": "L-ulFj3xiAhM",
        "colab_type": "code",
        "colab": {}
      },
      "source": [
        "# [ ] import cities\n"
      ],
      "execution_count": null,
      "outputs": []
    },
    {
      "cell_type": "code",
      "metadata": {
        "id": "_YvXRTQuiAhT",
        "colab_type": "code",
        "colab": {}
      },
      "source": [
        "# [ ] open cities.txt as cities_file and read the file as a list: cities_lines\n",
        "\n"
      ],
      "execution_count": null,
      "outputs": []
    },
    {
      "cell_type": "code",
      "metadata": {
        "id": "hvzieXPLiAhe",
        "colab_type": "code",
        "colab": {}
      },
      "source": [
        "# [ ] use list iteration to print each city in cities_lines list\n",
        "\n"
      ],
      "execution_count": null,
      "outputs": []
    },
    {
      "cell_type": "code",
      "metadata": {
        "id": "JIjTntle4RyM",
        "colab_type": "code",
        "cellView": "form",
        "colab": {}
      },
      "source": [
        "#@title Click here for the solution\n",
        "! curl https://raw.githubusercontent.com/MicrosoftLearning/intropython/master/cities -o cities.txt\n",
        "cities_file = open('cities.txt','r')\n",
        "cities_lines = cities_file.readlines()\n",
        "for city in cities_lines:\n",
        "  print (city)\n"
      ],
      "execution_count": null,
      "outputs": []
    },
    {
      "cell_type": "markdown",
      "metadata": {
        "id": "wvif03-8iAho",
        "colab_type": "text"
      },
      "source": [
        "# &nbsp;\n",
        "<font size=\"6\" color=\"#00A0B2\"  face=\"verdana\"> <B>Concepts</B></font>  \n",
        "\n",
        "## working with lists from .readlines()\n",
        "[![view video](https://iajupyterprodblobs.blob.core.windows.net/imagecontainer/common/play_video.png)]( http://edxinteractivepage.blob.core.windows.net/edxpages/f7cff1a7-5601-48a1-95a6-fd1fdfabd20e.html?details=[{\"src\":\"http://jupyternootbookwams.streaming.mediaservices.windows.net/ed9b1523-6d69-462c-b18c-01e5423c1e52/Unit2_Section4.2b-Readlines-Remove_Characters.ism/manifest\",\"type\":\"application/vnd.ms-sstr+xml\"}],[{\"src\":\"http://jupyternootbookwams.streaming.mediaservices.windows.net/ed9b1523-6d69-462c-b18c-01e5423c1e52/Unit2_Section4.2b-Readlines-Remove_Characters.vtt\",\"srclang\":\"en\",\"kind\":\"subtitles\",\"label\":\"english\"}])\n",
        "###  remove newline characters from lists created using .readlines()\n",
        "```python\n",
        "for line in poem_lines:\n",
        "    poem_lines[count] = line[:-1]\n",
        "    count += 1\n",
        "```\n",
        "**`line[:-1]`** sets the end point at the last character of the string, the result is the **`'\\n'`** (newline) character is omitted\n",
        "\n",
        "| list item | list item contents | \n",
        "|-----|-----|\n",
        "| poem_lines[0] | 'Loops I repeat\\n' |  \n",
        "| poem_lines[1] | 'loops\\n' |  \n",
        "| poem_lines[2] | 'loops\\n' | \n",
        "| poem_lines[3] | 'I repeat\\n' | \n",
        "|... | ... | "
      ]
    },
    {
      "cell_type": "markdown",
      "metadata": {
        "id": "HEybNkXLiAhp",
        "colab_type": "text"
      },
      "source": [
        "### &nbsp;\n",
        "<font size=\"6\" color=\"#00A0B2\"  face=\"verdana\"> <B>Examples</B></font>  \n",
        "This example assumes that poem1.txt has been imported in 1st example above"
      ]
    },
    {
      "cell_type": "code",
      "metadata": {
        "id": "f-0RMAO_iAhs",
        "colab_type": "code",
        "colab": {}
      },
      "source": [
        "# [ ] review and run examples\n",
        "# [ ] re-open file and read file as a list of strings\n",
        "poem1 = open('poem1.txt', 'r')\n",
        "poem_lines = poem1.readlines()\n",
        "print(poem_lines)"
      ],
      "execution_count": null,
      "outputs": []
    },
    {
      "cell_type": "code",
      "metadata": {
        "id": "Xq-zSjT_iAhz",
        "colab_type": "code",
        "colab": {}
      },
      "source": [
        "# [ ] print each list item \n",
        "for line in poem_lines:\n",
        "    print(line)"
      ],
      "execution_count": null,
      "outputs": []
    },
    {
      "cell_type": "code",
      "metadata": {
        "id": "AYGzX1-eiAh9",
        "colab_type": "code",
        "colab": {}
      },
      "source": [
        "# [ ] remove the last character of each list item, which is \"\\n\"\n",
        "count = 0\n",
        "\n",
        "for line in poem_lines:\n",
        "    poem_lines[count] = line[:-1]\n",
        "    count += 1\n",
        "\n",
        "print(poem_lines)"
      ],
      "execution_count": null,
      "outputs": []
    },
    {
      "cell_type": "code",
      "metadata": {
        "id": "eam3b-8RiAiD",
        "colab_type": "code",
        "colab": {}
      },
      "source": [
        "# [ ] print each list item \n",
        "for line in poem_lines:\n",
        "    print(line)"
      ],
      "execution_count": null,
      "outputs": []
    },
    {
      "cell_type": "markdown",
      "metadata": {
        "collapsed": true,
        "id": "X991mTw_iAiK",
        "colab_type": "text"
      },
      "source": [
        "# &nbsp;\n",
        "<font size=\"6\" color=\"#B24C00\"  face=\"verdana\"> <B>Task 2</B></font>\n",
        "\n",
        "## remove newline characters from cities lists created using .readlines()\n",
        "- This task assumes that cites.txt has been imported in Task 1 above\n",
        "- In task 1, the cities were printed with a blank line between each city - this task removes the blank lines\n"
      ]
    },
    {
      "cell_type": "code",
      "metadata": {
        "id": "zBOqmikMiAiM",
        "colab_type": "code",
        "colab": {}
      },
      "source": [
        "# [ ] re-open file and read file as a list of strings \n",
        "# [ ] open cities.txt as cities_file and read the file as a list: cities_lines\n",
        "\n"
      ],
      "execution_count": null,
      "outputs": []
    },
    {
      "cell_type": "code",
      "metadata": {
        "id": "kFOGM9ZNiAiT",
        "colab_type": "code",
        "colab": {}
      },
      "source": [
        "# [ ] remove the last character, \"\\n\", of each cities_lines list item \n",
        "\n"
      ],
      "execution_count": null,
      "outputs": []
    },
    {
      "cell_type": "code",
      "metadata": {
        "id": "gODoYXokiAia",
        "colab_type": "code",
        "colab": {}
      },
      "source": [
        "# [ ] print each list item in cities_lines\n",
        "for line in cities_lines:\n",
        "    print(line)"
      ],
      "execution_count": null,
      "outputs": []
    },
    {
      "cell_type": "code",
      "metadata": {
        "id": "8nQuyJHH7oOK",
        "colab_type": "code",
        "cellView": "form",
        "colab": {}
      },
      "source": [
        "#@title Click here for the solution\n",
        "!curl https://raw.githubusercontent.com/MicrosoftLearning/intropython/master/cities -o cities.txt\n",
        "cities_file= open('cities.txt')\n",
        "cities_lines = cities_file.readlines()\n",
        "\n",
        "count = 0 \n",
        "for item in cities_lines:\n",
        "  cities_lines [count]=item[:-1]\n",
        "  count +=1\n",
        "\n",
        "for line in cities_lines:\n",
        "  print (line)"
      ],
      "execution_count": null,
      "outputs": []
    },
    {
      "cell_type": "markdown",
      "metadata": {
        "id": "k651lajGiAim",
        "colab_type": "text"
      },
      "source": [
        "# &nbsp;\n",
        "<font size=\"6\" color=\"#00A0B2\"  face=\"verdana\"> <B>Concepts</B></font>  \n",
        "\n",
        "## `.close()`\n",
        "[![view video](https://iajupyterprodblobs.blob.core.windows.net/imagecontainer/common/play_video.png)]( http://edxinteractivepage.blob.core.windows.net/edxpages/f7cff1a7-5601-48a1-95a6-fd1fdfabd20e.html?details=[{\"src\":\"http://jupyternootbookwams.streaming.mediaservices.windows.net/50a925e8-25e2-4bfa-936b-e2d181af36f0/Unit2_Section4.2c-File_Close_Method.ism/manifest\",\"type\":\"application/vnd.ms-sstr+xml\"}],[{\"src\":\"http://jupyternootbookwams.streaming.mediaservices.windows.net/50a925e8-25e2-4bfa-936b-e2d181af36f0/Unit2_Section4.2c-File_Close_Method.vtt\",\"srclang\":\"en\",\"kind\":\"subtitles\",\"label\":\"english\"}])\n",
        "### File .close() method frees resources \n",
        "flie.close() method removes the reference created from file open() function \n",
        "\n",
        "```python  \n",
        "poem1.close()\n",
        "```  "
      ]
    },
    {
      "cell_type": "markdown",
      "metadata": {
        "id": "hdi1kL9OiAip",
        "colab_type": "text"
      },
      "source": [
        "# &nbsp;\n",
        "<font size=\"6\" color=\"#00A0B2\"  face=\"verdana\"> <B>Examples</B></font>  \n",
        "This example assumes that poem1.txt has been imported in 1st example above"
      ]
    },
    {
      "cell_type": "code",
      "metadata": {
        "id": "uPtzi93OiAit",
        "colab_type": "code",
        "colab": {}
      },
      "source": [
        "# [ ] review and run example: open and readlines of poem1.txt\n",
        "poem1 = open('poem1.txt', 'r')"
      ],
      "execution_count": null,
      "outputs": []
    },
    {
      "cell_type": "code",
      "metadata": {
        "id": "3GjFVdtliAjC",
        "colab_type": "code",
        "colab": {}
      },
      "source": [
        "# [ ] review and run example: readlines breaks if file is no longer open\n",
        "\n",
        "poem_lines = poem1.readlines()\n",
        "print(poem_lines)"
      ],
      "execution_count": null,
      "outputs": []
    },
    {
      "cell_type": "code",
      "metadata": {
        "id": "88Vw3XKmiAjQ",
        "colab_type": "code",
        "colab": {}
      },
      "source": [
        "# [ ] review and run example: Close poem1\n",
        "poem1.close()\n"
      ],
      "execution_count": null,
      "outputs": []
    },
    {
      "cell_type": "markdown",
      "metadata": {
        "collapsed": true,
        "id": "M3t6hsFliAjh",
        "colab_type": "text"
      },
      "source": [
        "# &nbsp;\n",
        "<font size=\"6\" color=\"#B24C00\"  face=\"verdana\"> <B>Task 3</B></font>  \n",
        "## File .close() \n",
        "write each item in it's own cell  \n",
        "- open cities.txt as cities_file  \n",
        "- read the lines as cities_lines\n",
        "- print the cities that **start with the letter \"D\" or greater**  \n",
        "- close cities_file\n",
        "- test that file is closed"
      ]
    },
    {
      "cell_type": "code",
      "metadata": {
        "id": "F8u5veqZiAjk",
        "colab_type": "code",
        "colab": {}
      },
      "source": [
        "# [ ] open cities.txt as cities_file\n",
        "cities_file = open('cities.txt', 'r')\n"
      ],
      "execution_count": null,
      "outputs": []
    },
    {
      "cell_type": "code",
      "metadata": {
        "id": "o1ms3WTQiAjx",
        "colab_type": "code",
        "colab": {}
      },
      "source": [
        "# [ ] read the lines as cities_lines\n",
        "cities_lines = cities_file.readlines()\n"
      ],
      "execution_count": null,
      "outputs": []
    },
    {
      "cell_type": "code",
      "metadata": {
        "id": "69kM0VgDiAj4",
        "colab_type": "code",
        "colab": {}
      },
      "source": [
        "# [ ] print the cities that start with the letter \"D\" or greater\n",
        "\n",
        "for line in cities_lines:\n",
        "  if  line[0]>'D':\n",
        "    print (line)"
      ],
      "execution_count": null,
      "outputs": []
    },
    {
      "cell_type": "code",
      "metadata": {
        "id": "z7rKURFpiAkG",
        "colab_type": "code",
        "colab": {}
      },
      "source": [
        "# [ ] close cities_file\n",
        "cities_file.close()\n"
      ],
      "execution_count": null,
      "outputs": []
    },
    {
      "cell_type": "code",
      "metadata": {
        "id": "0CyMEPHCiAj_",
        "colab_type": "code",
        "colab": {}
      },
      "source": [
        "# [ ] test that file is closed\n",
        "print (cities_lines)\n"
      ],
      "execution_count": null,
      "outputs": []
    },
    {
      "cell_type": "markdown",
      "metadata": {
        "collapsed": true,
        "id": "YhQDP6ufiAkM",
        "colab_type": "text"
      },
      "source": [
        "# &nbsp;\n",
        "<font size=\"6\" color=\"#B24C00\"  face=\"verdana\"> <B>Task 4</B></font>  \n",
        "## readlines() poem2  \n",
        "write each item in its own cell  \n",
        "- import https://raw.githubusercontent.com/MicrosoftLearning/intropython/master/poem2.txt as poem2.txt  \n",
        "- open poem2.txt as poem2_file in read mode\n",
        "- create a list of strings, called poem2_lines, from each line of poem2_text (use **.readlines()**)  \n",
        "- remove the newline character for each list item in poem2_lines  \n",
        "- print the poem2 lines in reverse order  "
      ]
    },
    {
      "cell_type": "code",
      "metadata": {
        "id": "b6HLgkcuiAkO",
        "colab_type": "code",
        "colab": {}
      },
      "source": [
        "# [ ] import https://raw.githubusercontent.com/MicrosoftLearning/intropython/master/poem2.txt as poem2.txt\n",
        "\n"
      ],
      "execution_count": null,
      "outputs": []
    },
    {
      "cell_type": "code",
      "metadata": {
        "id": "WOCyq25LiAkX",
        "colab_type": "code",
        "colab": {}
      },
      "source": [
        "# [ ] open poem2.txt as poem2_text in read mode\n",
        "\n"
      ],
      "execution_count": null,
      "outputs": []
    },
    {
      "cell_type": "code",
      "metadata": {
        "id": "rMyb2xsdiAkh",
        "colab_type": "code",
        "colab": {}
      },
      "source": [
        "# [ ] create a list of strings, called poem2_lines, from each line of poem2_text\n",
        "\n"
      ],
      "execution_count": null,
      "outputs": []
    },
    {
      "cell_type": "code",
      "metadata": {
        "id": "Dq_c73s-iAkp",
        "colab_type": "code",
        "colab": {}
      },
      "source": [
        "# [ ] remove the newline character for each list item in poem2_lines\n",
        "\n"
      ],
      "execution_count": null,
      "outputs": []
    },
    {
      "cell_type": "code",
      "metadata": {
        "id": "gAMOQ5EXiAkw",
        "colab_type": "code",
        "colab": {}
      },
      "source": [
        "# [ ] print the poem2 lines in reverse order\n",
        "\n"
      ],
      "execution_count": null,
      "outputs": []
    },
    {
      "cell_type": "code",
      "metadata": {
        "id": "Q54WOWxZ9-J0",
        "colab_type": "code",
        "colab": {},
        "cellView": "form"
      },
      "source": [
        "#@title Click here for the solution\n",
        "!curl https://raw.githubusercontent.com/MicrosoftLearning/intropython/master/poem2.txt -o poem2.txt\n",
        "poem2_file = open ('poem2.txt', 'r')\n",
        "poem2_lines = poem2_file.readlines()\n",
        "\n",
        "count = 0 \n",
        "for item in poem2_lines:\n",
        "  poem2_lines [count] = item [:-1]\n",
        "  count +=1\n",
        "\n",
        "poem2_lines.reverse()\n",
        "print (poem2_lines)\n",
        "\n",
        "\n"
      ],
      "execution_count": null,
      "outputs": []
    },
    {
      "cell_type": "markdown",
      "metadata": {
        "collapsed": false,
        "id": "WpIlhZiKiAk8",
        "colab_type": "text"
      },
      "source": [
        "[Terms of use](http://go.microsoft.com/fwlink/?LinkID=206977) &nbsp; [Privacy & cookies](https://go.microsoft.com/fwlink/?LinkId=521839) &nbsp; © 2017 Microsoft"
      ]
    }
  ]
}