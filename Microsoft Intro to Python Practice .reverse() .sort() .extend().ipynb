{
  "nbformat": 4,
  "nbformat_minor": 0,
  "metadata": {
    "anaconda-cloud": {},
    "kernelspec": {
      "display_name": "Python 3",
      "language": "python",
      "name": "python3"
    },
    "language_info": {
      "codemirror_mode": {
        "name": "ipython",
        "version": 3
      },
      "file_extension": ".py",
      "mimetype": "text/x-python",
      "name": "python",
      "nbconvert_exporter": "python",
      "pygments_lexer": "ipython3",
      "version": "3.6.0"
    },
    "colab": {
      "name": "Mod3_2-3.3_intro_Python.ipynb",
      "provenance": [],
      "include_colab_link": true
    }
  },
  "cells": [
    {
      "cell_type": "markdown",
      "metadata": {
        "id": "view-in-github",
        "colab_type": "text"
      },
      "source": [
        "<a href=\"https://colab.research.google.com/github/EnginKaca/Python-Practice-for-Beginners-/blob/master/Microsoft%20Intro%20to%20Python%20Practice%20.reverse()%20.sort()%20.extend().ipynb\" target=\"_parent\"><img src=\"https://colab.research.google.com/assets/colab-badge.svg\" alt=\"Open In Colab\"/></a>"
      ]
    },
    {
      "cell_type": "markdown",
      "metadata": {
        "id": "1_uneH_xtsyD",
        "colab_type": "text"
      },
      "source": [
        "# 2-3.3 Intro Python\n",
        "# The Power of List Iteration\n",
        "- for in: **`for`** loop using **`in`**\n",
        "- for range: **`for range(start,stop,step)`** \n",
        "- **more list methods: `.extend()`, `+, .reverse(), .sort()`**   \n",
        "- strings to lists, **`.split()`**, and list to strings, **`.join()`**     \n",
        "\n",
        "\n",
        "----- \n",
        "\n",
        "><font size=\"5\" color=\"#00A0B2\"  face=\"verdana\"> <B>Student will be able to</B></font>  \n",
        "- Iterate through Lists using **`for`** with **`in`**\n",
        "- Use **`for range()`** in looping operations \n",
        "- **Use list methods `.extend()`, `+, .reverse(), .sort()`**  \n",
        "- convert between lists and strings using  **`.split()`** and **`.join()`**"
      ]
    },
    {
      "cell_type": "markdown",
      "metadata": {
        "id": "80qNccjrtsyH",
        "colab_type": "text"
      },
      "source": [
        "# &nbsp;\n",
        "<font size=\"6\" color=\"#00A0B2\"  face=\"verdana\"> <B>Concepts</B></font>\n",
        "## Combine Lists\n",
        "[![view video](https://iajupyterprodblobs.blob.core.windows.net/imagecontainer/common/play_video.png)](http://edxinteractivepage.blob.core.windows.net/edxpages/f7cff1a7-5601-48a1-95a6-fd1fdfabd20e.html?details=[{\"src\":\"http://jupyternootbookwams.streaming.mediaservices.windows.net/249a8d33-1e69-47e1-ab59-a8cf93f3fa8b/Unit2_Section3.3a_concatenate_lists.ism/manifest\",\"type\":\"application/vnd.ms-sstr+xml\"}],[{\"src\":\"http://jupyternootbookwams.streaming.mediaservices.windows.net/249a8d33-1e69-47e1-ab59-a8cf93f3fa8b/Unit2_Section3.3a_concatenate_lists.vtt\",\"srclang\":\"en\",\"kind\":\"subtitles\",\"label\":\"english\"}])\n",
        "## `+`  list addition\n",
        "##  `.extend()` list method   \n",
        "\n",
        "### combine lists with `+` and `.extend()`\n",
        "```python\n",
        "visited_cities = [\"New York\", \"Shanghai\", \"Munich\", \"Toyko\", \"Dubai\", \"Mexico City\", \"São Paulo\", \"Hyderabad\"]\n",
        "wish_cities = [\"Reykjavík\", \"Moscow\", \"Beijing\", \"Lamu\"]\n",
        "# combine in a new list\n",
        "all_cities = visited_cities + wish_cities\n",
        "\n",
        "# add a list to an existing list\n",
        "visitied_cities.extend(wish_cities)\n",
        "```"
      ]
    },
    {
      "cell_type": "markdown",
      "metadata": {
        "id": "mzOfRy5PtsyK",
        "colab_type": "text"
      },
      "source": [
        "# &nbsp;\n",
        "<font size=\"6\" color=\"#00A0B2\"  face=\"verdana\"> <B>Examples</B></font>"
      ]
    },
    {
      "cell_type": "code",
      "metadata": {
        "id": "enaKwhk0tsyL",
        "colab_type": "code",
        "colab": {}
      },
      "source": [
        "# [ ] review and run example\n",
        "visited_cities = [\"New York\", \"Shanghai\", \"Munich\", \"Toyko\", \"Dubai\", \"Mexico City\", \"São Paulo\", \"Hyderabad\"]\n",
        "wish_cities = [\"Reykjavík\", \"Moscow\", \"Beijing\", \"Lamu\"]\n",
        "\n",
        "# .extend() \n",
        "# extending visited_cities list (IN PLACE) by concatenating wish_cities\n",
        "visited_cities.extend(wish_cities)\n",
        "print(\"ALL CITIES\",visited_cities)"
      ],
      "execution_count": null,
      "outputs": []
    },
    {
      "cell_type": "code",
      "metadata": {
        "id": "l2LRhcY2tsyV",
        "colab_type": "code",
        "colab": {}
      },
      "source": [
        "# [ ] review and run example\n",
        "visited_cities = [\"New York\", \"Shanghai\", \"Munich\", \"Toyko\", \"Dubai\", \"Mexico City\", \"São Paulo\", \"Hyderabad\"]\n",
        "wish_cities = [\"Reykjavík\", \"Moscow\", \"Beijing\", \"Lamu\"]\n",
        "\n",
        "# (+) Addition operator for lists creates a (NEW) combined List\n",
        "all_cities = visited_cities + wish_cities\n",
        "\n",
        "print(\"ALL CITIES\")\n",
        "for city in all_cities:\n",
        "    print(city)"
      ],
      "execution_count": null,
      "outputs": []
    },
    {
      "cell_type": "code",
      "metadata": {
        "id": "0K04jrKktsyd",
        "colab_type": "code",
        "colab": {}
      },
      "source": [
        "# [ ] review and run example\n",
        "team_a = [0,2,2,2,4,4,4,5,6,6,6]\n",
        "team_b = [0,0,0,1,1,2,3,3,3,6,8]\n",
        "print(\"Team A:\", team_a, \"\\nTeam B:\",team_b)\n",
        "\n",
        "# (+) Addition operator \n",
        "team_totals = team_a + team_b\n",
        "print(\"Team Totals\", team_totals)"
      ],
      "execution_count": null,
      "outputs": []
    },
    {
      "cell_type": "code",
      "metadata": {
        "id": "VGg6tJrltsyk",
        "colab_type": "code",
        "colab": {}
      },
      "source": [
        "# [ ] review and run example after running cell above\n",
        "# .extend() \n",
        "team_a.extend(team_b)\n",
        "print(\"Team_a extended\", team_a)\n",
        "\n",
        "# what happens if you keep running this cell?"
      ],
      "execution_count": null,
      "outputs": []
    },
    {
      "cell_type": "markdown",
      "metadata": {
        "collapsed": true,
        "id": "kWaU-WIHtsyr",
        "colab_type": "text"
      },
      "source": [
        "# &nbsp;\n",
        "<font size=\"6\" color=\"#B24C00\"  face=\"verdana\"> <B>Task 1</B></font>\n",
        "\n",
        "### combine lists"
      ]
    },
    {
      "cell_type": "code",
      "metadata": {
        "id": "JbjHiWREtsys",
        "colab_type": "code",
        "colab": {}
      },
      "source": [
        "# [ ] extend the list common_birds with list birds_seen which you must create\n",
        "common_birds = [\"chicken\", \"blue jay\", \"crow\", \"pigeon\"]\n"
      ],
      "execution_count": null,
      "outputs": []
    },
    {
      "cell_type": "code",
      "metadata": {
        "id": "WWhUFh4R5Q9V",
        "colab_type": "code",
        "colab": {},
        "cellView": "form"
      },
      "source": [
        "#@title Click Here for the Solution\n",
        "common_birds = [\"chicken\", \"blue jay\", \"crow\", \"pigeon\"]\n",
        "birds_seen = ['gull','sparrow','robin',]\n",
        "common_birds.extend(birds_seen)\n",
        "print (common_birds)"
      ],
      "execution_count": null,
      "outputs": []
    },
    {
      "cell_type": "code",
      "metadata": {
        "id": "NkTgpfTNtsyz",
        "colab_type": "code",
        "colab": {}
      },
      "source": [
        "# [ ] Create 2 lists zero_nine and ten_onehundred that contain 1-9, and 10 - 100 by 10's.\n",
        "# [ ] use list addition to concatenate the lists into all_num and print\n",
        "\n"
      ],
      "execution_count": null,
      "outputs": []
    },
    {
      "cell_type": "code",
      "metadata": {
        "id": "4tfYwLsA593j",
        "colab_type": "code",
        "colab": {},
        "cellView": "form"
      },
      "source": [
        "#@title Click Here for the Solution\n",
        "zero_nine = list(range (1,10))\n",
        "ten_onehundred = list(range (10,101,10))\n",
        "all_num = zero_nine+ten_onehundred\n",
        "print (all_num)"
      ],
      "execution_count": null,
      "outputs": []
    },
    {
      "cell_type": "markdown",
      "metadata": {
        "id": "S69hN3Wntsy7",
        "colab_type": "text"
      },
      "source": [
        "# &nbsp;\n",
        "<font size=\"6\" color=\"#00A0B2\"  face=\"verdana\"> <B>Concepts</B></font>\n",
        "## .reverse() : reverse a list in place\n",
        "[![view video](https://iajupyterprodblobs.blob.core.windows.net/imagecontainer/common/play_video.png)](http://edxinteractivepage.blob.core.windows.net/edxpages/f7cff1a7-5601-48a1-95a6-fd1fdfabd20e.html?details=[{\"src\":\"http://jupyternootbookwams.streaming.mediaservices.windows.net/cde2807d-9151-4515-aa05-e83640c57712/Unit2_Section3.3b_reverse_lists.ism/manifest\",\"type\":\"application/vnd.ms-sstr+xml\"}],[{\"src\":\"http://jupyternootbookwams.streaming.mediaservices.windows.net/cde2807d-9151-4515-aa05-e83640c57712/Unit2_Section3.3b_reverse_lists.vtt\",\"srclang\":\"en\",\"kind\":\"subtitles\",\"label\":\"english\"}])\n",
        "\n",
        "```python\n",
        "cities_1 = [\"Dubai\", \"Mexico City\", \"São Paulo\", \"Hyderabad\"]\n",
        "\n",
        "print(\"regular\", cities_1)\n",
        "cities_1.reverse()\n",
        "print(\"reversed\", cities_1)\n",
        "```\n"
      ]
    },
    {
      "cell_type": "markdown",
      "metadata": {
        "id": "iqjsIWKptsy8",
        "colab_type": "text"
      },
      "source": [
        "### &nbsp;\n",
        "<font size=\"6\" color=\"#00A0B2\"  face=\"verdana\"> <B>Examples</B></font>"
      ]
    },
    {
      "cell_type": "code",
      "metadata": {
        "id": "7Ew7Mykftsy-",
        "colab_type": "code",
        "colab": {}
      },
      "source": [
        "# [ ] review and run example\n",
        "cities_1 = [\"Dubai\", \"Mexico City\", \"São Paulo\", \"Hyderabad\"]\n",
        "\n",
        "print(\"regular\", cities_1)\n",
        "cities_1.reverse()\n",
        "print(\"reversed\", cities_1)"
      ],
      "execution_count": null,
      "outputs": []
    },
    {
      "cell_type": "code",
      "metadata": {
        "id": "T_c6mcMktszF",
        "colab_type": "code",
        "colab": {}
      },
      "source": [
        "# [ ] review and run example\n",
        "all_num = [0, 1, 2, 3, 4, 5, 6, 7, 8, 9, 10, 20, 30, 40, 50, 60, 70, 80, 90, 100]\n",
        "print(\"regular list\",all_num, \"\\n\")\n",
        "all_num.reverse()\n",
        "print(\"reverse list\",all_num, \"\\n\")\n",
        "num_len = len(all_num)\n",
        "\n",
        "print(\"Three Multiple\")\n",
        "for num in all_num:\n",
        "    if num/3==int(num/3):\n",
        "        print(num)\n",
        "    else:\n",
        "        pass\n",
        "    "
      ],
      "execution_count": null,
      "outputs": []
    },
    {
      "cell_type": "code",
      "metadata": {
        "id": "HtZ_3H_-tszM",
        "colab_type": "code",
        "colab": {}
      },
      "source": [
        "# [ ] review and run example\n",
        "# create a list of  numbers by casting a range \n",
        "count_list = list(range(21))\n",
        "print(\"before list\", count_list)\n",
        "\n",
        "# and reverse\n",
        "count_list.reverse()\n",
        "print(\"after list\", count_list)"
      ],
      "execution_count": null,
      "outputs": []
    },
    {
      "cell_type": "markdown",
      "metadata": {
        "collapsed": true,
        "id": "XoqZYmQptszT",
        "colab_type": "text"
      },
      "source": [
        "# &nbsp;\n",
        "<font size=\"6\" color=\"#B24C00\"  face=\"verdana\"> <B>Task 2</B></font>\n",
        "\n",
        "## .reverse()"
      ]
    },
    {
      "cell_type": "code",
      "metadata": {
        "id": "JVV4XqrAtszU",
        "colab_type": "code",
        "colab": {}
      },
      "source": [
        "# [ ] create and  print a list of multiples of 5 from 5 to 100\n",
        "# { ] reverse the list and print\n",
        "\n"
      ],
      "execution_count": null,
      "outputs": []
    },
    {
      "cell_type": "code",
      "metadata": {
        "id": "KMpvZbGz-RJK",
        "colab_type": "code",
        "colab": {},
        "cellView": "form"
      },
      "source": [
        "#@title Click Here for the Solution\n",
        "multiples_of_five=list(range(5,101,5))\n",
        "print (multiples_of_five)\n",
        "multiples_of_five.reverse()\n",
        "print (multiples_of_five)\n"
      ],
      "execution_count": null,
      "outputs": []
    },
    {
      "cell_type": "code",
      "metadata": {
        "id": "ZtlgMr_Ztszb",
        "colab_type": "code",
        "colab": {}
      },
      "source": [
        "# [ ] Create two lists: fours & more_fours containing multiples of four from 4 to 44\n",
        "# [ ] combine and print so that the output is mirrored [44, 40,...8, 4, 4, 8, ...40, 44]\n",
        "\n"
      ],
      "execution_count": null,
      "outputs": []
    },
    {
      "cell_type": "code",
      "metadata": {
        "id": "kiighOLQ_AYi",
        "colab_type": "code",
        "colab": {},
        "cellView": "form"
      },
      "source": [
        "#@title Click Here for the Solution\n",
        "fours =list (range(4,45,4))\n",
        "more_fours =list (range(4,45,4))\n",
        "fours.reverse()\n",
        "lots_of_fours = fours+more_fours\n",
        "print (lots_of_fours)"
      ],
      "execution_count": null,
      "outputs": []
    },
    {
      "cell_type": "markdown",
      "metadata": {
        "id": "0Hn5jNcutszi",
        "colab_type": "text"
      },
      "source": [
        "# &nbsp;\n",
        "<font size=\"6\" color=\"#00A0B2\"  face=\"verdana\"> <B>Concepts</B></font>  \n",
        "\n",
        "## .sort() and sorted()\n",
        "[![view video](https://iajupyterprodblobs.blob.core.windows.net/imagecontainer/common/play_video.png)](http://edxinteractivepage.blob.core.windows.net/edxpages/f7cff1a7-5601-48a1-95a6-fd1fdfabd20e.html?details=[{\"src\":\"http://jupyternootbookwams.streaming.mediaservices.windows.net/375c6bd9-9f91-4a3c-9a67-c01c35ea64ff/Unit2_Section3.3c_sort_sorted.ism/manifest\",\"type\":\"application/vnd.ms-sstr+xml\"}],[{\"src\":\"http://jupyternootbookwams.streaming.mediaservices.windows.net/375c6bd9-9f91-4a3c-9a67-c01c35ea64ff/Unit2_Section3.3c_Sort_Sorted.vtt\",\"srclang\":\"en\",\"kind\":\"subtitles\",\"label\":\"english\"}])\n",
        "\n",
        " \n",
        "\n",
        "### .sort() in place  \n",
        "**.sort()** - orders a list in place \n",
        "```python\n",
        "quiz_scores = [20, 19, 20, 15, 20, 20, 20, 18, 18, 18, 19]\n",
        "quiz_scores.sort()\n",
        "```  \n",
        "\n",
        "### sorted() copy\n",
        "**sorted()** - creates an ordered list copy \n",
        "```python\n",
        "game_points = [3, 14, 0, 8, 21, 1, 3, 8]\n",
        "sorted_points = sorted(game_points)\n",
        "```"
      ]
    },
    {
      "cell_type": "markdown",
      "metadata": {
        "id": "Rd47uxv_tszj",
        "colab_type": "text"
      },
      "source": [
        "# &nbsp;\n",
        "<font size=\"6\" color=\"#00A0B2\"  face=\"verdana\"> <B>Examples</B></font>  \n",
        "### .sort() and sorted()"
      ]
    },
    {
      "cell_type": "code",
      "metadata": {
        "id": "OC4DUo0Xtszk",
        "colab_type": "code",
        "colab": {}
      },
      "source": [
        "# [ ] review and run example\n",
        "quiz_scores = [20, 19, 20, 15, 20, 20, 20, 18, 18, 18, 19]\n",
        "\n",
        "# use .sort()\n",
        "quiz_scores.sort()\n",
        "\n",
        "print(\"quiz_scores:\", quiz_scores)"
      ],
      "execution_count": null,
      "outputs": []
    },
    {
      "cell_type": "code",
      "metadata": {
        "id": "9qMEjZB5tszq",
        "colab_type": "code",
        "colab": {}
      },
      "source": [
        "# [ ] review and run example\n",
        "game_points = [3, 14, 0, 8, 21, 1, 3, 8]\n",
        "\n",
        "# use sorted()\n",
        "sorted_points = sorted(game_points)\n",
        "\n",
        "print(\"game_points:\", game_points)\n",
        "print(\"sorted_points:\", sorted_points)"
      ],
      "execution_count": null,
      "outputs": []
    },
    {
      "cell_type": "code",
      "metadata": {
        "id": "Lg5pQxrTtszw",
        "colab_type": "code",
        "colab": {}
      },
      "source": [
        "# [ ] review and run example\n",
        "cities_1 = [\"Dubai\", \"Mexico City\", \"São Paulo\", \"Hyderabad\"]\n",
        "\n",
        "print(\"Unsorted\", cities_1)\n",
        "cities_1.sort()\n",
        "print(\"Sorted\", cities_1)"
      ],
      "execution_count": null,
      "outputs": []
    },
    {
      "cell_type": "markdown",
      "metadata": {
        "collapsed": true,
        "id": "RjsYZG-5tsz3",
        "colab_type": "text"
      },
      "source": [
        "# &nbsp;\n",
        "<font size=\"6\" color=\"#B24C00\"  face=\"verdana\"> <B>Task 3</B></font>  \n",
        "## .sort() & sorted()"
      ]
    },
    {
      "cell_type": "code",
      "metadata": {
        "id": "OosUm77Itsz5",
        "colab_type": "code",
        "colab": {}
      },
      "source": [
        "# [ ] print cites from visited_cities list in alphbetical order using .sort()\n",
        "# [ ] only print cities that names start \"Q\" or earlier\n",
        "visited_cities = [\"New York\", \"Shanghai\", \"Munich\", \"Toyko\", \"Dubai\", \"Mexico City\", \"São Paulo\", \"Hyderabad\"]"
      ],
      "execution_count": null,
      "outputs": []
    },
    {
      "cell_type": "code",
      "metadata": {
        "id": "fOaaN-Fy38fj",
        "colab_type": "code",
        "colab": {},
        "cellView": "form"
      },
      "source": [
        "#@title Click Here for the Solution\n",
        "visited_cities = [\"New York\", \"Shanghai\", \"Munich\", \"Toyko\", \"Dubai\", \"Mexico City\", \"São Paulo\", \"Hyderabad\"]\n",
        "visited_cities.sort()\n",
        "print (visited_cities)"
      ],
      "execution_count": null,
      "outputs": []
    },
    {
      "cell_type": "code",
      "metadata": {
        "id": "ECUac2s1ts0C",
        "colab_type": "code",
        "colab": {}
      },
      "source": [
        "# [ ] make a sorted copy (sorted_cities) of visited_cities list\n",
        "# [ ] remove city names 5 characters or less from sorted_cities \n",
        "# [ ] print visitied cites and sorted cities\n",
        "visited_cities = [\"New York\", \"Shanghai\", \"Munich\", \"Toyko\", \"Dubai\", \"Mexico City\", \"São Paulo\", \"Hyderabad\"]"
      ],
      "execution_count": null,
      "outputs": []
    },
    {
      "cell_type": "code",
      "metadata": {
        "id": "hqeEiskG2Lqq",
        "colab_type": "code",
        "colab": {},
        "cellView": "form"
      },
      "source": [
        "#@title Click Here for the Solution\n",
        "visited_cities = [\"New York\", \"Shanghai\", \"Munich\", \"Toyko\", \"Dubai\", \"Mexico City\", \"São Paulo\", \"Hyderabad\"]\n",
        "x = sorted(visited_cities)\n",
        "print (x)\n",
        "for item in x:\n",
        "  if len(item)<6:\n",
        "     x.remove(item)\n",
        "\n",
        "print (visited_cities)\n",
        "print (x)"
      ],
      "execution_count": null,
      "outputs": []
    },
    {
      "cell_type": "markdown",
      "metadata": {
        "collapsed": true,
        "id": "oBQAsXFbts0N",
        "colab_type": "text"
      },
      "source": [
        "# &nbsp;\n",
        "<font size=\"6\" color=\"#B24C00\"  face=\"verdana\"> <B>Task 4</B></font>  \n",
        "## Program: Merge & Sort Animals\n",
        "Create a program that \n",
        "- takes user input to build a list: add_animals \n",
        "- merges add_anmials with exisiting list: animals\n",
        "- provides a sorted list to view in alpa or reverse alpha order"
      ]
    },
    {
      "cell_type": "markdown",
      "metadata": {
        "id": "Mlyu629Its0P",
        "colab_type": "text"
      },
      "source": [
        "\n",
        "<font size=\"4\" color=\"#B24C00\"  face=\"verdana\"> <B>step 1 </B></font> get user input to build add_animals list\n"
      ]
    },
    {
      "cell_type": "code",
      "metadata": {
        "id": "K5bpdgoPts0R",
        "colab_type": "code",
        "colab": {}
      },
      "source": [
        "# [ ] build a list (add_animals) using a while loop, stop adding when an empty string is entered\n",
        "add_animals = []\n",
        "\n"
      ],
      "execution_count": null,
      "outputs": []
    },
    {
      "cell_type": "code",
      "metadata": {
        "id": "cotPpdpU33No",
        "colab_type": "code",
        "colab": {},
        "cellView": "form"
      },
      "source": [
        "#@title Click Here for the Solution\n",
        "add_animals = []\n",
        "\n",
        "animal_input = input ('Enter animal names. Press enter to quit: ')\n",
        "while True:\n",
        "  if animal_input.isalpha() and animal_input!='':\n",
        "    add_animals.append(animal_input)\n",
        "    animal_input = input ('Enter animal names. Press enter to quit: ')\n",
        "  elif animal_input=='':\n",
        "    break\n",
        "  else:\n",
        "    print ('wrong entry')\n",
        "    animal_input = input ('Enter animal names. Press enter to quit: ')\n",
        "\n",
        "print (add_animals)"
      ],
      "execution_count": null,
      "outputs": []
    },
    {
      "cell_type": "markdown",
      "metadata": {
        "id": "1K9ssKhnts0Y",
        "colab_type": "text"
      },
      "source": [
        "\n",
        "<font size=\"4\" color=\"#B24C00\"  face=\"verdana\"> <B>step 2 </B></font> Merge the lists: add_animals into animals\n"
      ]
    },
    {
      "cell_type": "code",
      "metadata": {
        "id": "qN1gR-Kgts0Z",
        "colab_type": "code",
        "colab": {}
      },
      "source": [
        "# [ ] extend the lists into animals, then sort \n",
        "animals = [\"Chimpanzee\", \"Panther\", \"Wolf\", \"Armadillo\"]\n",
        "\n"
      ],
      "execution_count": null,
      "outputs": []
    },
    {
      "cell_type": "code",
      "metadata": {
        "id": "6qjWXpL36b_e",
        "colab_type": "code",
        "colab": {},
        "cellView": "form"
      },
      "source": [
        "#@title Click Here for the Solution\n",
        "animals = [\"Chimpanzee\", \"Panther\", \"Wolf\", \"Armadillo\"]\n",
        "animals.extend(add_animals)\n",
        "animals.sort()\n",
        "print (animals)"
      ],
      "execution_count": null,
      "outputs": []
    },
    {
      "cell_type": "markdown",
      "metadata": {
        "id": "EfETPMZpts0f",
        "colab_type": "text"
      },
      "source": [
        "\n",
        "<font size=\"4\" color=\"#B24C00\"  face=\"verdana\"> <B>step 3 </B></font> Allow animals list to be viewed alpha or reverse alpha order\n"
      ]
    },
    {
      "cell_type": "code",
      "metadata": {
        "id": "OH1B91IYts0g",
        "colab_type": "code",
        "colab": {}
      },
      "source": [
        "# [ ] get input if list should be viewed alpha or reverse alpha and display list\n",
        "\n"
      ],
      "execution_count": null,
      "outputs": []
    },
    {
      "cell_type": "code",
      "metadata": {
        "id": "sQO0U84-ts0m",
        "colab_type": "code",
        "colab": {},
        "cellView": "form"
      },
      "source": [
        "#@title Click Here for the Solution\n",
        "order = input('Alpha order (A) or Reverse Alpha order (R)? Enter A/R: ')\n",
        "\n",
        "while True:\n",
        "  if order.lower() =='a':\n",
        "    animals.sort()\n",
        "    print (animals)\n",
        "    break\n",
        "  elif order.lower() =='r':\n",
        "    animals.sort()\n",
        "    animals.reverse()\n",
        "    print (animals)\n",
        "    break\n",
        "  else:\n",
        "    print('wrong entry')\n",
        "    order = input('Alpha order (A) or Reverse Alpha order (R)? Enter A/R: ')\n",
        "\n",
        "\n"
      ],
      "execution_count": null,
      "outputs": []
    },
    {
      "cell_type": "markdown",
      "metadata": {
        "collapsed": true,
        "id": "qkH-mdBats0t",
        "colab_type": "text"
      },
      "source": [
        "[Terms of use](http://go.microsoft.com/fwlink/?LinkID=206977) &nbsp; [Privacy & cookies](https://go.microsoft.com/fwlink/?LinkId=521839) &nbsp; © 2017 Microsoft"
      ]
    }
  ]
}