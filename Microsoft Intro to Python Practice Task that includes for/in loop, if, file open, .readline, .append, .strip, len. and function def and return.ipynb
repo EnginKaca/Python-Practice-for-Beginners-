{
  "nbformat": 4,
  "nbformat_minor": 0,
  "metadata": {
    "anaconda-cloud": {},
    "kernelspec": {
      "display_name": "Python 3",
      "language": "python",
      "name": "python3"
    },
    "language_info": {
      "codemirror_mode": {
        "name": "ipython",
        "version": 3
      },
      "file_extension": ".py",
      "mimetype": "text/x-python",
      "name": "python",
      "nbconvert_exporter": "python",
      "pygments_lexer": "ipython3",
      "version": "3.5.1"
    },
    "colab": {
      "name": "Required_FINAL_Project_IntroPy.ipynb",
      "provenance": [],
      "include_colab_link": true
    }
  },
  "cells": [
    {
      "cell_type": "markdown",
      "metadata": {
        "id": "view-in-github",
        "colab_type": "text"
      },
      "source": [
        "<a href=\"https://colab.research.google.com/github/EnginKaca/Python-Practice-for-Beginners-/blob/master/Microsoft%20Intro%20to%20Python%20Practice%20Task%20that%20includes%20for/in%20loop%2C%20if%2C%20file%20open%2C%20.readline%2C%20.append%2C%20.strip%2C%20len.%20and%20function%20def%20and%20return.ipynb\" target=\"_parent\"><img src=\"https://colab.research.google.com/assets/colab-badge.svg\" alt=\"Open In Colab\"/></a>"
      ]
    },
    {
      "cell_type": "markdown",
      "metadata": {
        "id": "Kp36EQZGiFZE",
        "colab_type": "text"
      },
      "source": [
        "# Final Project Required Coding Activity  \n",
        "Introduction to Python (Unit 2) Fundamentals  \n",
        "\n",
        "**This Activity is intended to be completed in the jupyter notebook, `Required_FINAL_Project_IntroPy.ipynb`, and then pasted into the assessment page that follows.**   \n",
        " \n",
        "All course .ipynb Jupyter Notebooks are available from the project files download topic in Module 1, Section 1.  \n",
        "\n",
        "This activity is based on modules 1 - 4 and is similar to exercises in the Jupyter Notebooks **`Practice_MOD03_IntroPy.ipynb`** and **`Practice_MOD04_IntroPy.ipynb`** which you may have completed as practice.\n",
        "\n",
        "| **Assignment Requirements** |\n",
        "|:-------------------------------|\n",
        "|This program requires the use of **`print`** output and use of  **`input`**, **`for`**/**`in`** loop, **`if`**, file **`open`**, **`.readline`**, **`.append`**, **`.strip`**, **`len`**. and function **`def`** and **`return`**. The code should also consider using most of the following (`.upper()` or `.lower()`, `.title()`, `print(\"hello\",end=\"\")` `else`, `elif`, `range()`, `while`, `.close()`) |\n",
        "\n",
        "\n",
        "## Program: Element_Quiz  \n",
        "In this program the user enters the name of any 5 of the first 20 Atomic Elements and is given a grade and test report for items correct and incorrect.  \n",
        "\n",
        "\n",
        "### Sample input and output:  \n",
        "```\n",
        "list any 5 of the first 20 elements in the Period table\n",
        "Enter the name of an element: argon\n",
        "Enter the name of an element: chlorine\n",
        "Enter the name of an element: sodium\n",
        "Enter the name of an element: argon\n",
        "argon was already entered          <--no duplicates allowed\n",
        "Enter the name of an element: helium\n",
        "Enter the name of an element: gold\n",
        "\n",
        "80 % correct\n",
        "Found: Argon Chlorine Sodium Helium \n",
        "Not Found: Gold \n",
        "```  \n",
        "\n",
        "\n",
        "### Create get_names() Function to collect input of 5 unique element names  \n",
        "\n",
        "- The function accepts no arguments and returns a list of 5 input strings (element names)  \n",
        "- define a list to hold the input\n",
        "- collect input of a element name  \n",
        "- if input it is **not** already in the list add the input to the list  \n",
        "- don't allow empty strings as input  \n",
        "- once 5 unique inputs **return** the list  \n",
        "\n",
        "\n",
        "### Create the Program flow  \n",
        "\n",
        "#### import the file into the Jupyter Notebook environment   \n",
        "\n",
        "- use `!curl` to download https://raw.githubusercontent.com/MicrosoftLearning/intropython/master/elements1_20.txt\" as `elements1_20.txt`  \n",
        "- open the file with the first 20 elements  \n",
        "- read one line at a time to get element names, remove any whitespace (spaces, newlines) and save each element name, as lowercase, into a list  \n",
        "\n",
        "\n",
        "####  Call the get_names() function  \n",
        "\n",
        "- the return value will be the quiz responses list  \n",
        "\n",
        "#### check if responses are in the list of elements  \n",
        "Iterate through 5 responses  \n",
        "- compare each response to the list of 20 elements\n",
        "  - any response that is in the list of 20 elements is correct and should be added to a list of correct responses  \n",
        "  - if not in the list of 20 elements then add to a list of incorrect responses  \n",
        "\n",
        "#### calculate the % correct  \n",
        " \n",
        " - find the the number of items in the correct responses and divide by 5, this will result in answers like 1.0, .8, .6,...  \n",
        " - to get the % multiple the calculated answer above by 100, this will result in answers like 100, 80, 60...  \n",
        " - *hint: instead of dividing by 5 and then multiplying by 100, the number of correct responses can be multiplied by 20*  \n",
        "\n",
        "#### Print output  \n",
        "\n",
        "- print the Score % right  \n",
        "- print each of the correct responses  \n",
        "- print each of the incorrect responses  \n",
        "\n",
        "\n",
        "### create Element_Quiz  then paste code on edX submission page\n",
        "\n"
      ]
    },
    {
      "cell_type": "code",
      "metadata": {
        "id": "hT5i8cNhiFZH",
        "colab_type": "code",
        "colab": {}
      },
      "source": [
        "# [] create Element_Quiz\n",
        "# [] copy and paste in edX assignment page"
      ],
      "execution_count": null,
      "outputs": []
    },
    {
      "cell_type": "code",
      "metadata": {
        "colab_type": "code",
        "id": "gn1yC4JOj16t",
        "colab": {},
        "cellView": "form"
      },
      "source": [
        "#@title Click Here for the solution\n",
        "# [] create Element_Quiz\n",
        "# [] copy and paste in edX assignment page\n",
        "\n",
        "user_guess=[]\n",
        "\n",
        "def get_names():\n",
        "  guess=input('enter an element name and press enter: ')\n",
        "  while True:\n",
        "    if guess =='':\n",
        "        print ('you must enter an element')\n",
        "        guess=input('enter an element name and press enter: ')\n",
        "    elif len(user_guess) <5:\n",
        "      if guess not in user_guess:\n",
        "        user_guess.append(guess)\n",
        "        if len(user_guess) <5:\n",
        "          guess=input('enter an element name and press enter: ')\n",
        "        elif len(user_guess) ==5:\n",
        "          print (user_guess)\n",
        "          break\n",
        "      elif guess in user_guess:\n",
        "        print ('already in the list')\n",
        "        guess=input('enter an element name and press enter: ')\n",
        "\n",
        "get_names()\n",
        "\n",
        "!curl  https://raw.githubusercontent.com/MicrosoftLearning/intropython/master/elements1_20.txt -o 'elements1_20.txt'\n",
        "elements_20=open ('elements1_20.txt','r')\n",
        "element_lines = elements_20.readlines()\n",
        "element_list = []\n",
        "for line in element_lines:\n",
        "  element_list.append(line.lower().strip())\n",
        "print (element_list)\n",
        "\n",
        "correct_responses =[]\n",
        "incorrect_responses=[]\n",
        "for item in user_guess:\n",
        "  if item in element_list:\n",
        "    correct_responses.append(item)\n",
        "  elif item not in element_list:\n",
        "    incorrect_responses.append(item)\n",
        "\n",
        "print (str(20*len(correct_responses))+'% correct')\n",
        "print ('Found:',correct_responses)\n",
        "print ('Not found:',incorrect_responses)"
      ],
      "execution_count": null,
      "outputs": []
    },
    {
      "cell_type": "markdown",
      "metadata": {
        "id": "lBBc310giFZa",
        "colab_type": "text"
      },
      "source": [
        "### Need assignment tips and clarification? \n",
        "See the video on the \"Final coding assignment > Required Final Project\" course page on [edX](https://courses.edx.org/courses/course-v1:Microsoft+DEV274x+4T2017/course)    \n",
        "\n",
        "# Important:  [How to submit code by pasting](https://courses.edx.org/courses/course-v1:Microsoft+DEV274x+2T2017/wiki/Microsoft.DEV274x.2T2017/paste-code-end-module-coding-assignments/)\n"
      ]
    },
    {
      "cell_type": "markdown",
      "metadata": {
        "id": "2yMFShTFiFZc",
        "colab_type": "text"
      },
      "source": [
        "[Terms of use](http://go.microsoft.com/fwlink/?LinkID=206977) &nbsp; [Privacy & cookies](https://go.microsoft.com/fwlink/?LinkId=521839) &nbsp; © 2017 Microsoft"
      ]
    }
  ]
}