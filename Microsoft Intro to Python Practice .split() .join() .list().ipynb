{
  "nbformat": 4,
  "nbformat_minor": 0,
  "metadata": {
    "anaconda-cloud": {},
    "kernelspec": {
      "display_name": "Python 3",
      "language": "python",
      "name": "python3"
    },
    "language_info": {
      "codemirror_mode": {
        "name": "ipython",
        "version": 3
      },
      "file_extension": ".py",
      "mimetype": "text/x-python",
      "name": "python",
      "nbconvert_exporter": "python",
      "pygments_lexer": "ipython3",
      "version": "3.6.0"
    },
    "colab": {
      "name": "Mod3_2-3.4_intro_Python.ipynb",
      "provenance": [],
      "include_colab_link": true
    }
  },
  "cells": [
    {
      "cell_type": "markdown",
      "metadata": {
        "id": "view-in-github",
        "colab_type": "text"
      },
      "source": [
        "<a href=\"https://colab.research.google.com/github/EnginKaca/Python-Practice-for-Beginners-/blob/master/Microsoft%20Intro%20to%20Python%20Practice%20.split()%20.join()%20.list().ipynb\" target=\"_parent\"><img src=\"https://colab.research.google.com/assets/colab-badge.svg\" alt=\"Open In Colab\"/></a>"
      ]
    },
    {
      "cell_type": "markdown",
      "metadata": {
        "id": "STD4kj53aUj9",
        "colab_type": "text"
      },
      "source": [
        "# 2-3.4 Intro Python\n",
        "# The Power of List Iteration\n",
        "- for in: **`for`** loop using **`in`**\n",
        "- for range: **`for range(start,stop,step)`** \n",
        "- more list methods: **`.extend()`, `+, .reverse(), .sort()`**     \n",
        "- **strings to lists,`.split()`, and list to strings, `.join()`** \n",
        "- **list cast & `print(\"hello\", end='')`**\n",
        "\n",
        "\n",
        "----- \n",
        "\n",
        "><font size=\"5\" color=\"#00A0B2\"  face=\"verdana\"> <B>Student will be able to</B></font>  \n",
        "- Iterate through Lists using **`for`** with **`in`**\n",
        "- Use **`for range()`** in looping operations  \n",
        "- Use list methods **`.extend()`, `+, .reverse(), .sort()`**  \n",
        "- **convert between lists and strings using  `.split()` and `.join()`**\n",
        "- **cast strings to lists / direct multiple print outputs to a single line**"
      ]
    },
    {
      "cell_type": "markdown",
      "metadata": {
        "id": "erw1Mrt0aUkA",
        "colab_type": "text"
      },
      "source": [
        "# &nbsp;\n",
        "<font size=\"6\" color=\"#00A0B2\"  face=\"verdana\"> <B>Concepts</B></font>\n",
        "## Converting a string to a list with `.split()`\n",
        "[![view video](https://iajupyterprodblobs.blob.core.windows.net/imagecontainer/common/play_video.png)]( http://edxinteractivepage.blob.core.windows.net/edxpages/f7cff1a7-5601-48a1-95a6-fd1fdfabd20e.html?details=[{\"src\":\"http://jupyternootbookwams.streaming.mediaservices.windows.net/1a076a9c-842f-455f-91bf-48db837842e8/Unit2_Section3.4a-Split_on_Breaks.ism/manifest\",\"type\":\"application/vnd.ms-sstr+xml\"}],[{\"src\":\"http://jupyternootbookwams.streaming.mediaservices.windows.net/1a076a9c-842f-455f-91bf-48db837842e8/Unit2_Section3.4a-Split_on_Breaks.vtt\",\"srclang\":\"en\",\"kind\":\"subtitles\",\"label\":\"english\"}])\n",
        "### `.split()`  by default, splits a string at spaces (\" \") to create a list\n",
        "```python\n",
        "tip = \"Notebooks can be exported as .pdf\"\n",
        "tip_words = tip.split()\n",
        "\n",
        "for word in tip_words:\n",
        "    print(word)\n",
        "```"
      ]
    },
    {
      "cell_type": "markdown",
      "metadata": {
        "id": "CR1fa2MMaUkC",
        "colab_type": "text"
      },
      "source": [
        "# &nbsp;\n",
        "<font size=\"6\" color=\"#00A0B2\"  face=\"verdana\"> <B>Examples</B></font>"
      ]
    },
    {
      "cell_type": "code",
      "metadata": {
        "id": "7uORSBsXaUkE",
        "colab_type": "code",
        "colab": {}
      },
      "source": [
        "# [ ] review and run example\n",
        "tip = \"Notebooks can be exported as .pdf\"\n",
        "tip_words = tip.split()\n",
        "\n",
        "print(\"STRING:\", tip)\n",
        "print(\"LIST:\", tip_words, \"\\n\")\n",
        "\n",
        "for word in tip_words:\n",
        "    print(word)"
      ],
      "execution_count": null,
      "outputs": []
    },
    {
      "cell_type": "code",
      "metadata": {
        "id": "RTwfW7ZCaUkO",
        "colab_type": "code",
        "colab": {}
      },
      "source": [
        "# [ ] review and run example\n",
        "rhyme = \"London bridge is falling down\"\n",
        "\n",
        "rhyme_words = rhyme.split()\n",
        "\n",
        "rhyme_words.reverse()\n",
        "\n",
        "for word in rhyme_words:\n",
        "    print(word)"
      ],
      "execution_count": null,
      "outputs": []
    },
    {
      "cell_type": "markdown",
      "metadata": {
        "collapsed": true,
        "id": "AadR9PRKaUkV",
        "colab_type": "text"
      },
      "source": [
        "# &nbsp;\n",
        "<font size=\"6\" color=\"#B24C00\"  face=\"verdana\"> <B>Task 1</B></font>\n",
        "\n",
        "### using `.split()`"
      ]
    },
    {
      "cell_type": "code",
      "metadata": {
        "id": "hTSgLwCoaUkY",
        "colab_type": "code",
        "colab": {}
      },
      "source": [
        "# [ ] split the string(rhyme) into a list of words (rhyme_words)\n",
        "# [ ] print each word on it's own line\n",
        "rhyme = 'Jack and Jill went up the hill To fetch a pail of water' \n",
        "\n"
      ],
      "execution_count": null,
      "outputs": []
    },
    {
      "cell_type": "code",
      "metadata": {
        "id": "QIPranMdlMA3",
        "colab_type": "code",
        "colab": {},
        "cellView": "form"
      },
      "source": [
        "#@title Click Here for the solution\n",
        "rhyme = 'Jack and Jill went up the hill To fetch a pail of water' \n",
        "rhyme_words = rhyme.split()\n",
        "for word in rhyme_words:\n",
        "  print (word)\n"
      ],
      "execution_count": null,
      "outputs": []
    },
    {
      "cell_type": "code",
      "metadata": {
        "id": "kIoF5FYEaUkg",
        "colab_type": "code",
        "colab": {}
      },
      "source": [
        "# [ ] split code_tip into a list and print the first and every other word\n",
        "code_tip = \"Python uses spaces for indentation\"\n",
        "\n"
      ],
      "execution_count": null,
      "outputs": []
    },
    {
      "cell_type": "code",
      "metadata": {
        "id": "UPb6QjnemDbk",
        "colab_type": "code",
        "colab": {},
        "cellView": "form"
      },
      "source": [
        "#@title Click Here for the solution\n",
        "code_tip = \"Python uses spaces for indentation\"\n",
        "code_tip_list = code_tip.split()\n",
        "for word in range (0,len(code_tip_list),2):\n",
        "  print(code_tip_list[word])"
      ],
      "execution_count": null,
      "outputs": []
    },
    {
      "cell_type": "code",
      "metadata": {
        "id": "iZ6hA5n4QEkI",
        "colab_type": "code",
        "colab": {}
      },
      "source": [
        "from IPython.display import Image\n",
        "try:\n",
        "  filename = take_photo()\n",
        "  print('Saved to {}'.format(filename))\n",
        "  \n",
        "  # Show the image which was just taken.\n",
        "  display(Image(filename))\n",
        "except Exception as err:\n",
        "  # Errors will be thrown if the user does not have a webcam or if they do not\n",
        "  # grant the page permission to access it.\n",
        "  print(str(err))"
      ],
      "execution_count": null,
      "outputs": []
    },
    {
      "cell_type": "markdown",
      "metadata": {
        "id": "0pX37XD9aUko",
        "colab_type": "text"
      },
      "source": [
        "# &nbsp;\n",
        "<font size=\"6\" color=\"#00A0B2\"  face=\"verdana\"> <B>Concepts</B></font>\n",
        "## `.split('-')`\n",
        "[![view video](https://iajupyterprodblobs.blob.core.windows.net/imagecontainer/common/play_video.png)]( http://edxinteractivepage.blob.core.windows.net/edxpages/f7cff1a7-5601-48a1-95a6-fd1fdfabd20e.html?details=[{\"src\":\"http://jupyternootbookwams.streaming.mediaservices.windows.net/55d37e65-fb49-4bf5-87f8-fb987d3ce7a4/Unit2_Section3.4b-Split_on_Strings.ism/manifest\",\"type\":\"application/vnd.ms-sstr+xml\"}],[{\"src\":\"http://jupyternootbookwams.streaming.mediaservices.windows.net/55d37e65-fb49-4bf5-87f8-fb987d3ce7a4/Unit2_Section3.4b-Split_on_Strings.vtt\",\"srclang\":\"en\",\"kind\":\"subtitles\",\"label\":\"english\"}])\n",
        "### to split on characters other than \" \" (space), provide `.split()` a string argument to use as break points\n",
        "```python \n",
        "code_tip = \"Python-uses-spaces-for-indentation\"\n",
        "tip_words = code_tip.split('-')\n",
        "```"
      ]
    },
    {
      "cell_type": "markdown",
      "metadata": {
        "id": "iZzC7sEMaUkp",
        "colab_type": "text"
      },
      "source": [
        "### &nbsp;\n",
        "<font size=\"6\" color=\"#00A0B2\"  face=\"verdana\"> <B>Examples</B></font>  \n",
        "### `.split('-') : split with an argument"
      ]
    },
    {
      "cell_type": "code",
      "metadata": {
        "id": "NafPgLp_aUkq",
        "colab_type": "code",
        "colab": {}
      },
      "source": [
        "# [ ] review and run example\n",
        "code_tip = \"Python-uses-spaces-for-indentation\"\n",
        "tip_words = code_tip.split('-')\n",
        "\n",
        "print(tip_words)"
      ],
      "execution_count": null,
      "outputs": []
    },
    {
      "cell_type": "code",
      "metadata": {
        "id": "2ZOmtlfVaUkz",
        "colab_type": "code",
        "colab": {}
      },
      "source": [
        "# [ ] review and run example - study the list print output\n",
        "code_tip = \"Python uses spaces for indentation\"\n",
        "\n",
        "# split on \"a\"\n",
        "tip_words = code_tip.split('a')\n",
        "print(code_tip)\n",
        "print(tip_words)"
      ],
      "execution_count": null,
      "outputs": []
    },
    {
      "cell_type": "code",
      "metadata": {
        "id": "bJqI3_ykaUk8",
        "colab_type": "code",
        "colab": {}
      },
      "source": [
        "# [ ] review and run example\n",
        "# triple quotes ''' ''' preserve formatting such as spaces and line breaks\n",
        "big_quote = \"\"\"Jack and Jill went up the hill\n",
        "To fetch a pail of water\n",
        "Jack fell down and broke his crown\n",
        "And Jill came tumbling after\"\"\"\n",
        "\n",
        "# split on line breaks (\\n)\n",
        "quote_lines = big_quote.split('\\n')\n",
        "print(quote_lines, '\\n')\n",
        "\n",
        "# print the list in reverse with index slicing\n",
        "for line in quote_lines[::-1]:\n",
        "    print(line)\n"
      ],
      "execution_count": null,
      "outputs": []
    },
    {
      "cell_type": "markdown",
      "metadata": {
        "collapsed": true,
        "id": "6nk_YgX8aUlD",
        "colab_type": "text"
      },
      "source": [
        "# &nbsp;\n",
        "<font size=\"6\" color=\"#B24C00\"  face=\"verdana\"> <B>Task 2</B></font>\n",
        "\n",
        "## `.split()`"
      ]
    },
    {
      "cell_type": "code",
      "metadata": {
        "id": "wpGuBXQ6aUlE",
        "colab_type": "code",
        "colab": {}
      },
      "source": [
        "# [ ] split poem into a list of phrases by splitting on \"*\" a\n",
        "# [ ] print each phrase on a new line in title case\n",
        "poem = \"Write code frequently*Save code frequently*Comment code frequently*Study code frequently*\"\n"
      ],
      "execution_count": null,
      "outputs": []
    },
    {
      "cell_type": "code",
      "metadata": {
        "id": "vh_gR3DAv4N2",
        "colab_type": "code",
        "colab": {},
        "cellView": "form"
      },
      "source": [
        "#@title Click Here for the solution\n",
        "poem = \"Write code frequently*Save code frequently*Comment code frequently*Study code frequently*\"\n",
        "poemsplit = poem.split('*')\n",
        "for line in poemsplit:\n",
        "  print (line)\n"
      ],
      "execution_count": null,
      "outputs": []
    },
    {
      "cell_type": "markdown",
      "metadata": {
        "id": "hmuXx3bnaUlL",
        "colab_type": "text"
      },
      "source": [
        "# &nbsp;\n",
        "<font size=\"6\" color=\"#00A0B2\"  face=\"verdana\"> <B>Concepts</B></font>  \n",
        "\n",
        "## `.join()` &nbsp; build a string from a list\n",
        "[![view video](https://iajupyterprodblobs.blob.core.windows.net/imagecontainer/common/play_video.png)]( http://edxinteractivepage.blob.core.windows.net/edxpages/f7cff1a7-5601-48a1-95a6-fd1fdfabd20e.html?details=[{\"src\":\"http://jupyternootbookwams.streaming.mediaservices.windows.net/57decc97-801f-4f7e-8ab6-69a47cf1be7b/Unit2_Section3.4c-Build_using_Join_Sequence.ism/manifest\",\"type\":\"application/vnd.ms-sstr+xml\"}],[{\"src\":\"http://jupyternootbookwams.streaming.mediaservices.windows.net/57decc97-801f-4f7e-8ab6-69a47cf1be7b/Unit2_Section3.4c-Build_using_Join_Sequence.vtt\",\"srclang\":\"en\",\"kind\":\"subtitles\",\"label\":\"english\"}])\n",
        "### `.join()` is a method applied to a separator string and iterates through its argument\n",
        "```python\n",
        "tip_words = ['Notebooks', 'can', 'be', 'exported', 'as', '.pdf'] \n",
        "\n",
        "\" \".join(tip_words)\n",
        "```\n",
        "a space (\" \") is the separator that gets injected between the objects in the argument (the list \"tip_words\")"
      ]
    },
    {
      "cell_type": "markdown",
      "metadata": {
        "id": "88o9qDewaUlM",
        "colab_type": "text"
      },
      "source": [
        "# &nbsp;\n",
        "<font size=\"6\" color=\"#00A0B2\"  face=\"verdana\"> <B>Examples</B></font>  \n",
        "## `.join()`"
      ]
    },
    {
      "cell_type": "code",
      "metadata": {
        "id": "7PvkTU5saUlN",
        "colab_type": "code",
        "colab": {}
      },
      "source": [
        "# [ ] review and run example\n",
        "tip_words = ['Notebooks', 'can', 'be', 'exported', 'as', '.pdf'] \n",
        "\n",
        "# join tip_words objects with spaces\n",
        "print(\" \".join(tip_words))"
      ],
      "execution_count": null,
      "outputs": []
    },
    {
      "cell_type": "code",
      "metadata": {
        "id": "cJCn06ddaUlU",
        "colab_type": "code",
        "colab": {}
      },
      "source": [
        "# [ ] review and run example\n",
        "no_space = \"\"\n",
        "letters = [\"P\", \"y\", \"t\", \"h\", \"o\", \"n\"]\n",
        "print(no_space.join(letters))"
      ],
      "execution_count": null,
      "outputs": []
    },
    {
      "cell_type": "code",
      "metadata": {
        "id": "X01Dty9haUlc",
        "colab_type": "code",
        "colab": {}
      },
      "source": [
        "# [ ] review and run example - .join() iterates through sequences\n",
        "dash = \"-\"\n",
        "space = \" \"\n",
        "word = \"Iteration\"\n",
        "ellipises = \"...\"\n",
        "\n",
        "dash_join = dash.join(word)\n",
        "print(dash_join)\n",
        "print(space.join(word))\n",
        "print(ellipises.join(word))"
      ],
      "execution_count": null,
      "outputs": []
    },
    {
      "cell_type": "markdown",
      "metadata": {
        "collapsed": true,
        "id": "kLGXGdRqaUlj",
        "colab_type": "text"
      },
      "source": [
        "# &nbsp;\n",
        "<font size=\"6\" color=\"#B24C00\"  face=\"verdana\"> <B>Task 3</B></font>  \n",
        "## `.join()`"
      ]
    },
    {
      "cell_type": "code",
      "metadata": {
        "id": "tjaqiGxeaUlk",
        "colab_type": "code",
        "colab": {}
      },
      "source": [
        "# [ ] .join() letters list objects with an Asterisk: \"*\"\n",
        "letters = [\"A\", \"s\", \"t\", \"e\", \"r\", \"i\", \"s\", \"k\"]"
      ],
      "execution_count": null,
      "outputs": []
    },
    {
      "cell_type": "code",
      "metadata": {
        "id": "3OKoiyAe6VN3",
        "colab_type": "code",
        "colab": {},
        "cellView": "form"
      },
      "source": [
        "#@title Click Here for the solution\n",
        "letters = [\"A\", \"s\", \"t\", \"e\", \"r\", \"i\", \"s\", \"k\"]\n",
        "print(\"*\".join(letters))"
      ],
      "execution_count": null,
      "outputs": []
    },
    {
      "cell_type": "markdown",
      "metadata": {
        "collapsed": true,
        "id": "iZfzd8ueaUlr",
        "colab_type": "text"
      },
      "source": [
        "# &nbsp;\n",
        "<font size=\"6\" color=\"#B24C00\"  face=\"verdana\"> <B>Task 4</B></font>  \n",
        "## Program: Choose the separator\n",
        "- get user input on what to use to join words (\" \", *, -, etc...) - store in variable: separator\n",
        "- join pharse_words with the separator and print"
      ]
    },
    {
      "cell_type": "code",
      "metadata": {
        "id": "MnXvvZ2caUls",
        "colab_type": "code",
        "colab": {}
      },
      "source": [
        "# [ ] complete Choose the separator\n",
        "phrase_words = ['Jack', 'and', 'Jill', 'went', 'up', 'the', 'hill', 'To', 'fetch', 'a', 'pail', 'of', 'water']"
      ],
      "execution_count": null,
      "outputs": []
    },
    {
      "cell_type": "code",
      "metadata": {
        "id": "wMV9Zz3Q6jep",
        "colab_type": "code",
        "colab": {},
        "cellView": "form"
      },
      "source": [
        "#@title Click Here for the solution\n",
        "phrase_words = ['Jack', 'and', 'Jill', 'went', 'up', 'the', 'hill', 'To', 'fetch', 'a', 'pail', 'of', 'water']\n",
        "seperator = input('enter the seperator')\n",
        "print (seperator.join(phrase_words))"
      ],
      "execution_count": null,
      "outputs": []
    },
    {
      "cell_type": "markdown",
      "metadata": {
        "id": "t3grX-yvaUl1",
        "colab_type": "text"
      },
      "source": [
        "# &nbsp;\n",
        "<font size=\"6\" color=\"#00A0B2\"  face=\"verdana\"> <B>Concept</B></font>\n",
        "## More Python string tools (tricks?)\n",
        "[![view video](https://iajupyterprodblobs.blob.core.windows.net/imagecontainer/common/play_video.png)]( http://edxinteractivepage.blob.core.windows.net/edxpages/f7cff1a7-5601-48a1-95a6-fd1fdfabd20e.html?details=[{\"src\":\"http://jupyternootbookwams.streaming.mediaservices.windows.net/aa6eaea3-a3cb-41d8-aee3-280d01a9f4f0/Unit2_Section3.4d-Useful_String_Tricks.ism/manifest\",\"type\":\"application/vnd.ms-sstr+xml\"}],[{\"src\":\"http://jupyternootbookwams.streaming.mediaservices.windows.net/aa6eaea3-a3cb-41d8-aee3-280d01a9f4f0/Unit2_Section3.4d-Useful_String_Tricks.vtt\",\"srclang\":\"en\",\"kind\":\"subtitles\",\"label\":\"english\"}])\n",
        "### Cast a string to a list of characters  \n",
        "```python\n",
        "hello_letters = list(\"Hello\")\n",
        "```\n",
        "### print to the same line with multiple print statements (`end=`)\n",
        "or insert any character as an end in print(\"String\", end=\"+\")\n",
        "```python\n",
        "print('Hello', end = '')\n",
        "print('world')\n",
        "```"
      ]
    },
    {
      "cell_type": "markdown",
      "metadata": {
        "id": "LDYN2ngFaUl-",
        "colab_type": "text"
      },
      "source": [
        "# &nbsp;\n",
        "<font size=\"6\" color=\"#00A0B2\"  face=\"verdana\"> <B>Examples</B></font>"
      ]
    },
    {
      "cell_type": "code",
      "metadata": {
        "id": "-JDMB4zjaUmA",
        "colab_type": "code",
        "colab": {}
      },
      "source": [
        "# [ ] review and run example\n",
        "hello_letters = list(\"Hello\")\n",
        "print(hello_letters)"
      ],
      "execution_count": null,
      "outputs": []
    },
    {
      "cell_type": "code",
      "metadata": {
        "id": "Y9ak1yJJaUmG",
        "colab_type": "code",
        "colab": {}
      },
      "source": [
        "# [ ] review and run example\n",
        "# cast sting to list\n",
        "word_letters = list(\"concatenates\")\n",
        "\n",
        "# .join() concatenates the list\n",
        "# print on same line setting the end character\n",
        "print('~'.join(word_letters))"
      ],
      "execution_count": null,
      "outputs": []
    },
    {
      "cell_type": "code",
      "metadata": {
        "id": "GpQ4suITaUmQ",
        "colab_type": "code",
        "colab": {}
      },
      "source": [
        "# [ ] review and run example\n",
        "print(\"Hello \",end = '')\n",
        "print(\"world\")"
      ],
      "execution_count": null,
      "outputs": []
    },
    {
      "cell_type": "code",
      "metadata": {
        "id": "i_KOqmyPaUmc",
        "colab_type": "code",
        "colab": {}
      },
      "source": [
        "# [ ] review and run example\n",
        "# This  is the default print end\n",
        "print(\"Hello World!\", end=\"\\n\")\n",
        "print('still something to learn about print()')"
      ],
      "execution_count": null,
      "outputs": []
    },
    {
      "cell_type": "code",
      "metadata": {
        "id": "VPtMv_8raUmo",
        "colab_type": "code",
        "colab": {}
      },
      "source": [
        "# [ ] review and run example\n",
        "# end inserts any valid str character: A-z, 0-9,!,@,*,\\n,\\t or ''(empty string)...\n",
        "for letter in \"Concatenation\":\n",
        "    print(letter, end='*')"
      ],
      "execution_count": null,
      "outputs": []
    },
    {
      "cell_type": "markdown",
      "metadata": {
        "id": "yo1vUECHaUmw",
        "colab_type": "text"
      },
      "source": [
        "# &nbsp;\n",
        "<font size=\"6\" color=\"#B24C00\"  face=\"verdana\"> <B>Task 5</B></font>\n",
        "## `end=\" \" ` configuration in printing\n",
        "`print('The String', end='')`"
      ]
    },
    {
      "cell_type": "code",
      "metadata": {
        "id": "Jo75SAbHaUmy",
        "colab_type": "code",
        "colab": {}
      },
      "source": [
        "# [ ] use 3 print() statements to output text to one line \n",
        "# [ ] separate the lines by using \"- \" (dash space)\n",
        "\n"
      ],
      "execution_count": null,
      "outputs": []
    },
    {
      "cell_type": "code",
      "metadata": {
        "id": "VFrnh9ZPDUbt",
        "colab_type": "code",
        "colab": {},
        "cellView": "form"
      },
      "source": [
        "#@title Click Here for the solution\n",
        "print ('City', end='-')\n",
        "print ('Liverpool', end='-')\n",
        "print ('United')"
      ],
      "execution_count": null,
      "outputs": []
    },
    {
      "cell_type": "markdown",
      "metadata": {
        "id": "kRiePM9faUm4",
        "colab_type": "text"
      },
      "source": [
        "# &nbsp;\n",
        "<font size=\"6\" color=\"#B24C00\"  face=\"verdana\"> <B>Task 6</B></font>\n",
        "## cast: str to list\n",
        "`Msg_characters = list(\"Always test your code\")`"
      ]
    },
    {
      "cell_type": "code",
      "metadata": {
        "id": "FAjdacF9aUm7",
        "colab_type": "code",
        "colab": {}
      },
      "source": [
        "# [ ] create a string (fact) of 20 or more characters and cast to a list (fact_letters)\n",
        "# [ ] iterate fact, printing each char on one line, except for spaces print a new line\n",
        "\n",
        "\n"
      ],
      "execution_count": null,
      "outputs": []
    },
    {
      "cell_type": "code",
      "metadata": {
        "id": "O3y_qMRyG4w6",
        "colab_type": "code",
        "colab": {},
        "cellView": "form"
      },
      "source": [
        "#@title Click Here for the solution\n",
        "fact = 'when you go in the same direction long enough, you will surely get back to where you start'\n",
        "fact_letters = list(fact)\n",
        "for char in fact_letters:\n",
        "  if char!=' ':\n",
        "    print (char)"
      ],
      "execution_count": null,
      "outputs": []
    },
    {
      "cell_type": "markdown",
      "metadata": {
        "collapsed": true,
        "id": "aTnEh20baUnF",
        "colab_type": "text"
      },
      "source": [
        "# &nbsp;  \n",
        "<font size=\"6\" color=\"#B24C00\"  face=\"verdana\"> <B>Task 7</B></font>  \n",
        "## Program: add the digits\n",
        "- create a 20 digit string, and cast to a list\n",
        "- then add all the digits as integers\n",
        "- print the equation and answer  \n",
        "\n",
        "Hint: use cast to sum the digits, and .join() to create the equation (1+2+3+...)"
      ]
    },
    {
      "cell_type": "code",
      "metadata": {
        "id": "_fS_K98MaUnG",
        "colab_type": "code",
        "colab": {}
      },
      "source": [
        "# [ ] create add the digits\n",
        "\n",
        "\n"
      ],
      "execution_count": null,
      "outputs": []
    },
    {
      "cell_type": "code",
      "metadata": {
        "id": "nv_mP_eaKewZ",
        "colab_type": "code",
        "colab": {},
        "cellView": "form"
      },
      "source": [
        "#@title Click Here for the solution\n",
        "a = '12345678901234567890'\n",
        "b= list(a)\n",
        "c=0\n",
        "for no in b:\n",
        "  c+=int(no)\n",
        "d='+'.join(b)\n",
        "print(d,'=',c)"
      ],
      "execution_count": null,
      "outputs": []
    },
    {
      "cell_type": "markdown",
      "metadata": {
        "collapsed": true,
        "id": "y804cM6CaUnP",
        "colab_type": "text"
      },
      "source": [
        "[Terms of use](http://go.microsoft.com/fwlink/?LinkID=206977) &nbsp; [Privacy & cookies](https://go.microsoft.com/fwlink/?LinkId=521839) &nbsp; © 2017 Microsoft"
      ]
    }
  ]
}