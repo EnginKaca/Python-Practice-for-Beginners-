{
  "nbformat": 4,
  "nbformat_minor": 0,
  "metadata": {
    "anaconda-cloud": {},
    "kernelspec": {
      "display_name": "Python 3",
      "language": "python",
      "name": "python3"
    },
    "language_info": {
      "codemirror_mode": {
        "name": "ipython",
        "version": 3
      },
      "file_extension": ".py",
      "mimetype": "text/x-python",
      "name": "python",
      "nbconvert_exporter": "python",
      "pygments_lexer": "ipython3",
      "version": "3.6.0"
    },
    "colab": {
      "name": "Mod3_2-3.2_intro_Python.ipynb",
      "provenance": [],
      "include_colab_link": true
    }
  },
  "cells": [
    {
      "cell_type": "markdown",
      "metadata": {
        "id": "view-in-github",
        "colab_type": "text"
      },
      "source": [
        "<a href=\"https://colab.research.google.com/github/EnginKaca/Python-Practice-for-Beginners-/blob/master/Microsoft_Intro_to_Python_Practice_on.ipynb\" target=\"_parent\"><img src=\"https://colab.research.google.com/assets/colab-badge.svg\" alt=\"Open In Colab\"/></a>"
      ]
    },
    {
      "cell_type": "markdown",
      "metadata": {
        "id": "-AUWRSrsFqSS",
        "colab_type": "text"
      },
      "source": [
        "# 2-3.2 Intro Python\n",
        "# The Power of List Iteration (loops)\n",
        "- for in: **`for`** loop using **`in`**\n",
        "- ** for range: `for range(start,stop,step)`** \n",
        "- more list methods: **`.extend()`, `+, .reverse(), .sort()`**      \n",
        "- strings to lists, **`.split()`**, and list to strings, **`.join()`**   \n",
        "\n",
        "\n",
        "----- \n",
        "\n",
        "><font size=\"5\" color=\"#00A0B2\"  face=\"verdana\"> <B>Student will be able to</B></font>  \n",
        "- Iterate through Lists using **`for`** with **`in`**\n",
        "- **Use `for range()` in looping operations**  \n",
        "- Use list methods **`.extend()`, `+, .reverse(), .sort()`**  \n",
        "- convert between lists and strings using  **`.split()`** and **`.join()`**"
      ]
    },
    {
      "cell_type": "markdown",
      "metadata": {
        "id": "aExuNIeEFqSX",
        "colab_type": "text"
      },
      "source": [
        "# &nbsp;\n",
        "<font size=\"6\" color=\"#00A0B2\"  face=\"verdana\"> <B>Concepts</B></font>\n",
        "##  `range(stop)`\n",
        "[![view video](https://iajupyterprodblobs.blob.core.windows.net/imagecontainer/common/play_video.png)](http://edxinteractivepage.blob.core.windows.net/edxpages/f7cff1a7-5601-48a1-95a6-fd1fdfabd20e.html?details=[{\"src\":\"http://jupyternootbookwams.streaming.mediaservices.windows.net/bda2424d-4f25-4c0a-a77a-06384f3da8f2/Unit2_Section3.2a_range_stop.ism/manifest\",\"type\":\"application/vnd.ms-sstr+xml\"}],[{\"src\":\"http://jupyternootbookwams.streaming.mediaservices.windows.net/bda2424d-4f25-4c0a-a77a-06384f3da8f2/Unit2_Section3.2a_range_stop.vtt\",\"srclang\":\"en\",\"kind\":\"subtitles\",\"label\":\"english\"}])\n",
        "### The range(*stop*) function creates a sequence  \n",
        "using 1 argument with range(*stop*)\n",
        "- deault start: 0\n",
        "- stop: stopping integer, does not process stop number\n",
        "```python\n",
        "for count in range(10):\n",
        "  print(count)\n",
        "```\n",
        "### same as\n",
        "```python\n",
        "for count in [0, 1, 2, 3, 4, 5, 6, 7, 8, 9]:\n",
        "  print(count)\n",
        "```\n"
      ]
    },
    {
      "cell_type": "markdown",
      "metadata": {
        "id": "a0vo51WwFqSa",
        "colab_type": "text"
      },
      "source": [
        "# &nbsp;\n",
        "<font size=\"6\" color=\"#00A0B2\"  face=\"verdana\"> <B>Examples</B></font>  \n",
        "### range runs from `0` through the integer before `stop`"
      ]
    },
    {
      "cell_type": "code",
      "metadata": {
        "id": "47jJnz9VFqSe",
        "colab_type": "code",
        "colab": {}
      },
      "source": [
        "# [ ] review and run example\n",
        "for count in range(10):\n",
        "  print(count)"
      ],
      "execution_count": null,
      "outputs": []
    },
    {
      "cell_type": "code",
      "metadata": {
        "id": "kfQ0BEyuFqSr",
        "colab_type": "code",
        "colab": {}
      },
      "source": [
        "# review and run example\n",
        "digits = range(10)\n",
        "print(\"digits =\", list(digits), \"\\n\")\n",
        "\n",
        "for count in digits:\n",
        "    print(count)"
      ],
      "execution_count": null,
      "outputs": []
    },
    {
      "cell_type": "code",
      "metadata": {
        "id": "cPZGmaufFqS0",
        "colab_type": "code",
        "colab": {}
      },
      "source": [
        "# [ ] review and run example\n",
        "sub_total = 0\n",
        "for item in range(10):\n",
        "    sub_total += item\n",
        "    print(\"sub_total:\", sub_total)\n",
        "print(\"Total =\", sub_total)"
      ],
      "execution_count": null,
      "outputs": []
    },
    {
      "cell_type": "code",
      "metadata": {
        "id": "olhcOkCIFqS8",
        "colab_type": "code",
        "colab": {}
      },
      "source": [
        "# [ ] review and run example\n",
        "# print the first half of a spelling list\n",
        "spell_list = [\"Tuesday\", \"Wednesday\", \"February\", \"November\", \"Annual\", \"Calendar\", \"Solstice\"]\n",
        "\n",
        "# find length of 1st half of list (must be int)\n",
        "half_1 = int(len(spell_list)/2)\n",
        "\n",
        "for word in range(half_1):\n",
        "    print(spell_list[word])"
      ],
      "execution_count": null,
      "outputs": []
    },
    {
      "cell_type": "markdown",
      "metadata": {
        "collapsed": true,
        "id": "0cZ7tGZwFqTE",
        "colab_type": "text"
      },
      "source": [
        "# &nbsp;\n",
        "<font size=\"6\" color=\"#B24C00\"  face=\"verdana\"> <B>Task 1</B></font>\n",
        "\n",
        "## `range(stop)`"
      ]
    },
    {
      "cell_type": "code",
      "metadata": {
        "id": "WmklBTsqFqTF",
        "colab_type": "code",
        "colab": {}
      },
      "source": [
        "# [ ] for x = 6, use range(x) to print the numbers 1 through 6\n",
        "\n",
        "\n"
      ],
      "execution_count": null,
      "outputs": []
    },
    {
      "cell_type": "code",
      "metadata": {
        "id": "e6l3Nrq0wZph",
        "colab_type": "code",
        "colab": {},
        "cellView": "form"
      },
      "source": [
        "#@title CLICK HERE FOR THE SOLUTION\n",
        "x = 6\n",
        "for number in range(x):\n",
        "  print (number)"
      ],
      "execution_count": null,
      "outputs": []
    },
    {
      "cell_type": "code",
      "metadata": {
        "id": "wQHDH1dcFqTN",
        "colab_type": "code",
        "colab": {}
      },
      "source": [
        "# [ ] using range(x) multiply the numbers 1 through 7\n",
        "# 1x2x3x4x5x6x7 = 5040\n"
      ],
      "execution_count": null,
      "outputs": []
    },
    {
      "cell_type": "code",
      "metadata": {
        "id": "QCwbk6E7wqci",
        "colab_type": "code",
        "colab": {},
        "cellView": "form"
      },
      "source": [
        "#@title CLICK HERE FOR THE SOLUTION\n",
        "result = 1\n",
        "for number in range (1,8):\n",
        "  result= result*number\n",
        "print (result)"
      ],
      "execution_count": null,
      "outputs": []
    },
    {
      "cell_type": "markdown",
      "metadata": {
        "id": "qCpQD9uPFqTY",
        "colab_type": "text"
      },
      "source": [
        "Use **`range(stop)`** to print the second half of spell_list below"
      ]
    },
    {
      "cell_type": "code",
      "metadata": {
        "id": "lqkJbIiwFqTZ",
        "colab_type": "code",
        "colab": {}
      },
      "source": [
        "# [ ] print the second half of a spelling list using a range(stop) loop to iterate the list\n",
        "spell_list = [\"Wednesday\", \"Tuesday\", \"February\", \"November\", \"Annual\", \"Calendar\", \"Solstice\"]\n",
        "\n",
        "\n"
      ],
      "execution_count": null,
      "outputs": []
    },
    {
      "cell_type": "code",
      "metadata": {
        "id": "L761uGlCGZIj",
        "colab_type": "code",
        "colab": {},
        "cellView": "form"
      },
      "source": [
        "#@title CLICK HERE FOR THE SOLUTION\n",
        "spell_list = [\"Wednesday\", \"Tuesday\", \"February\", \"November\", \"Annual\", \"Calendar\", \"Solstice\"]\n",
        "for item in range (int(len(spell_list)/2),int(len(spell_list))):\n",
        "  print (spell_list[item])\n"
      ],
      "execution_count": null,
      "outputs": []
    },
    {
      "cell_type": "markdown",
      "metadata": {
        "id": "9Gk9ePGpFqTg",
        "colab_type": "text"
      },
      "source": [
        "# &nbsp;\n",
        "<font size=\"6\" color=\"#00A0B2\"  face=\"verdana\"> <B>Concepts</B></font>\n",
        "##  `range(start,stop)`\n",
        "[![view video](https://iajupyterprodblobs.blob.core.windows.net/imagecontainer/common/play_video.png)](http://edxinteractivepage.blob.core.windows.net/edxpages/f7cff1a7-5601-48a1-95a6-fd1fdfabd20e.html?details=[{\"src\":\"http://jupyternootbookwams.streaming.mediaservices.windows.net/95d6c75a-ed37-4f50-9049-2a2c225f9499/Unit2_Section3.2b_range_start_stop.ism/manifest\",\"type\":\"application/vnd.ms-sstr+xml\"}],[{\"src\":\"http://jupyternootbookwams.streaming.mediaservices.windows.net/95d6c75a-ed37-4f50-9049-2a2c225f9499/Unit2_Section3.2b_range_start_stop.vtt\",\"srclang\":\"en\",\"kind\":\"subtitles\",\"label\":\"english\"}])\n",
        "### The range(*start,stop*) function creates a sequence\n",
        "using 2 arguments with range(*start,stop*)\n",
        "- start: starting integer value of a range loop\n",
        "- stop: stopping integer (second argument), does not process stop number \n",
        "```python\n",
        "for count in range(5,10):\n",
        "  print(count)\n",
        "```\n"
      ]
    },
    {
      "cell_type": "markdown",
      "metadata": {
        "id": "ioJg1LQ9FqTi",
        "colab_type": "text"
      },
      "source": [
        "### &nbsp;\n",
        "<font size=\"6\" color=\"#00A0B2\"  face=\"verdana\"> <B>Examples</B></font>  \n",
        "### range runs from `start` integer through the integer before `stop`"
      ]
    },
    {
      "cell_type": "code",
      "metadata": {
        "id": "yyUTAytlFqTj",
        "colab_type": "code",
        "colab": {}
      },
      "source": [
        "# [ ] review and run example\n",
        "for count in range(5,10):\n",
        "  print(count)"
      ],
      "execution_count": null,
      "outputs": []
    },
    {
      "cell_type": "code",
      "metadata": {
        "id": "TIOOsZNmFqTq",
        "colab_type": "code",
        "colab": {}
      },
      "source": [
        "# [ ] review and run example\n",
        "sub_total = 0\n",
        "temp = 0\n",
        "for item in range(5, 11):\n",
        "    temp = sub_total\n",
        "    sub_total += item\n",
        "    print(\"sub_total:\", temp, \"+\", item, \"=\",sub_total)\n",
        "print(\"Total =\", sub_total)"
      ],
      "execution_count": null,
      "outputs": []
    },
    {
      "cell_type": "code",
      "metadata": {
        "id": "HgGFqKP7FqTx",
        "colab_type": "code",
        "colab": {}
      },
      "source": [
        "# [ ] review and run example\n",
        "\n",
        "spell_list = [\"Tuesday\", \"Wednesday\", \"February\", \"November\", \"Annual\", \"Calendar\", \"Solstice\"]\n",
        "\n",
        "# find length list \n",
        "spell_len = len(spell_list)\n",
        "# find lenght of 1st half (aka - start of 2nd half)\n",
        "half_1 = int(spell_len/2)\n",
        "\n",
        "# print 2nd half list\n",
        "for word in range(half_1,spell_len):\n",
        "    print(spell_list[word])"
      ],
      "execution_count": null,
      "outputs": []
    },
    {
      "cell_type": "markdown",
      "metadata": {
        "collapsed": true,
        "id": "QOYCUUGTFqUC",
        "colab_type": "text"
      },
      "source": [
        "# &nbsp;\n",
        "<font size=\"6\" color=\"#B24C00\"  face=\"verdana\"> <B>Task 2</B></font>\n",
        "\n",
        "##  `range(start,stop)`"
      ]
    },
    {
      "cell_type": "code",
      "metadata": {
        "id": "UjAlSqKKFqUE",
        "colab_type": "code",
        "colab": {}
      },
      "source": [
        "# [ ] using range(start,stop), .append() the numbers 5 to 15 to the list: five_fifteen\n",
        "# [ ] print list five_fifteen\n",
        "\n"
      ],
      "execution_count": null,
      "outputs": []
    },
    {
      "cell_type": "code",
      "metadata": {
        "id": "gTuIXM2KtKXI",
        "colab_type": "code",
        "colab": {},
        "cellView": "form"
      },
      "source": [
        "#@title CLICK HERE FOR THE SOLUTION\n",
        "five_fifteen=[]\n",
        "for number in range(5,15):\n",
        "  five_fifteen.append(number)\n",
        "print(five_fifteen)"
      ],
      "execution_count": null,
      "outputs": []
    },
    {
      "cell_type": "code",
      "metadata": {
        "id": "jBT9XSl6tnCw",
        "colab_type": "code",
        "colab": {},
        "cellView": "form"
      },
      "source": [
        "#@title CLICK HERE FOR THE SOLUTION\n",
        "five_fifteen = list(range(5,15))\n",
        "print (five_fifteen)\n"
      ],
      "execution_count": null,
      "outputs": []
    },
    {
      "cell_type": "code",
      "metadata": {
        "id": "YQFhv3d-FqUK",
        "colab_type": "code",
        "colab": {}
      },
      "source": [
        "\n",
        "# [ ] using range(start,stop) - print the 3rd, 4th and 5th words in spell_list\n",
        "# output should include \"February\", \"November\", \"Annual\"\n",
        "spell_list = [\"Tuesday\", \"Wednesday\", \"February\", \"November\", \"Annual\", \"Calendar\", \"Solstice\"]\n",
        "\n"
      ],
      "execution_count": null,
      "outputs": []
    },
    {
      "cell_type": "code",
      "metadata": {
        "id": "lhGmgKSovu16",
        "colab_type": "code",
        "colab": {},
        "cellView": "form"
      },
      "source": [
        "#@title CLICK HERE FOR THE SOLUTION\n",
        "spell_list = [\"Tuesday\", \"Wednesday\", \"February\", \"November\", \"Annual\", \"Calendar\", \"Solstice\"]\n",
        "for item in range(2,5):\n",
        "  print (spell_list[item])"
      ],
      "execution_count": null,
      "outputs": []
    },
    {
      "cell_type": "code",
      "metadata": {
        "id": "aYIuANvHvPaH",
        "colab_type": "code",
        "colab": {},
        "cellView": "form"
      },
      "source": [
        "#@title CLICK HERE FOR THE SOLUTION\n",
        "spell_list = [\"Tuesday\", \"Wednesday\", \"February\", \"November\", \"Annual\", \"Calendar\", \"Solstice\"]\n",
        "print (spell_list[2:5])"
      ],
      "execution_count": null,
      "outputs": []
    },
    {
      "cell_type": "code",
      "metadata": {
        "id": "8VJldh6cFqUT",
        "colab_type": "code",
        "colab": {}
      },
      "source": [
        "# [ ] using code find the index of \"Annual\" in spell_list\n",
        "# [ ] using range, print the spell_list including \"Annual\" to end of list\n",
        "spell_list = [\"Tuesday\", \"Wednesday\", \"February\", \"November\", \"Annual\", \"Calendar\", \"Solstice\"]\n",
        "\n"
      ],
      "execution_count": null,
      "outputs": []
    },
    {
      "cell_type": "code",
      "metadata": {
        "id": "FvguZM3SwapK",
        "colab_type": "code",
        "colab": {},
        "cellView": "form"
      },
      "source": [
        "#@title CLICK HERE FOR THE SOLUTION\n",
        "spell_list = [\"Tuesday\", \"Wednesday\", \"February\", \"November\", \"Annual\", \"Calendar\", \"Solstice\"]\n",
        "spell_list.index('Annual')\n",
        "for item in range(0,5):\n",
        "  print (spell_list[item])\n"
      ],
      "execution_count": null,
      "outputs": []
    },
    {
      "cell_type": "markdown",
      "metadata": {
        "id": "1HSUYxU7FqUa",
        "colab_type": "text"
      },
      "source": [
        "# &nbsp;\n",
        "<font size=\"6\" color=\"#00A0B2\"  face=\"verdana\"> <B>Concepts</B></font>\n",
        "##  `range(start,stop,step)`\n",
        "[![view video](https://iajupyterprodblobs.blob.core.windows.net/imagecontainer/common/play_video.png)](http://edxinteractivepage.blob.core.windows.net/edxpages/f7cff1a7-5601-48a1-95a6-fd1fdfabd20e.html?details=[{\"src\":\"http://jupyternootbookwams.streaming.mediaservices.windows.net/4299f0e2-3dc2-4298-aff1-e2a0b013de6a/Unit2_Section3.2c_range_start_stop_step.ism/manifest\",\"type\":\"application/vnd.ms-sstr+xml\"}],[{\"src\":\"http://jupyternootbookwams.streaming.mediaservices.windows.net/4299f0e2-3dc2-4298-aff1-e2a0b013de6a/Unit2_Section3.2c_range_start_stop_step.vtt\",\"srclang\":\"en\",\"kind\":\"subtitles\",\"label\":\"english\"}])\n",
        "### The range(*start,stop,step*) function creates a sequence\n",
        "using 3 arguments with range(*start,stop,step*)\n",
        "- start: starting integer value of a range loop\n",
        "- stop: stopping integer (second argument), does not process stop number \n",
        "- step: skip value for each loop\n",
        "```python\n",
        "for count in range(10,101,10):\n",
        "  print(count)\n",
        "```\n"
      ]
    },
    {
      "cell_type": "markdown",
      "metadata": {
        "id": "2YJlIfjdFqUb",
        "colab_type": "text"
      },
      "source": [
        "# &nbsp;\n",
        "<font size=\"6\" color=\"#00A0B2\"  face=\"verdana\"> <B>Examples</B></font>  \n",
        "### range runs from `start` integer, skipping by `step`, through the largest `step` integer before reaching `stop`"
      ]
    },
    {
      "cell_type": "code",
      "metadata": {
        "id": "RGh1pyrAFqUd",
        "colab_type": "code",
        "colab": {}
      },
      "source": [
        "# [ ] review and run example\n",
        "for count in range(25,101,25):\n",
        "  print(count)"
      ],
      "execution_count": null,
      "outputs": []
    },
    {
      "cell_type": "code",
      "metadata": {
        "id": "PrIucyu-FqUj",
        "colab_type": "code",
        "colab": {}
      },
      "source": [
        "# [ ] review and run example\n",
        "sub_total = 0\n",
        "temp = 0\n",
        "for item in range(25,46,5):\n",
        "    temp = sub_total\n",
        "    sub_total += item\n",
        "    print(\"sub_total:\", temp, \"+\", item, \"=\",sub_total)\n",
        "print(\"Total =\", sub_total)"
      ],
      "execution_count": null,
      "outputs": []
    },
    {
      "cell_type": "code",
      "metadata": {
        "id": "AUQpZuolFqUr",
        "colab_type": "code",
        "colab": {}
      },
      "source": [
        "# [ ] review and run example printing the 1st and then every other word in spell_list\n",
        "spell_list = [\"Tuesday\", \"Wednesday\", \"February\", \"November\", \"Annual\", \"Calendar\", \"Solstice\"]\n",
        "\n",
        "for index in range(0,len(spell_list),2):\n",
        "    print(spell_list[index])"
      ],
      "execution_count": null,
      "outputs": []
    },
    {
      "cell_type": "code",
      "metadata": {
        "id": "acCCkjjYFqUz",
        "colab_type": "code",
        "colab": {}
      },
      "source": [
        "# [ ] review and run example casting range to list\n",
        "odd_list = list(range(1,20,2))\n",
        "print(odd_list)"
      ],
      "execution_count": null,
      "outputs": []
    },
    {
      "cell_type": "markdown",
      "metadata": {
        "collapsed": true,
        "id": "0RAzUoduFqU8",
        "colab_type": "text"
      },
      "source": [
        "# &nbsp;\n",
        "<font size=\"6\" color=\"#B24C00\"  face=\"verdana\"> <B>Task 3</B></font>  \n",
        "## `range(start,stop,step)`"
      ]
    },
    {
      "cell_type": "code",
      "metadata": {
        "id": "p3gMyTh6Bu0t",
        "colab_type": "code",
        "colab": {}
      },
      "source": [
        ""
      ],
      "execution_count": null,
      "outputs": []
    },
    {
      "cell_type": "code",
      "metadata": {
        "id": "YMj_WQ4fFqU9",
        "colab_type": "code",
        "colab": {}
      },
      "source": [
        "# [ ] print numbers 10 to 20 by 2's using range\n",
        "\n",
        "\n",
        "\n"
      ],
      "execution_count": null,
      "outputs": []
    },
    {
      "cell_type": "code",
      "metadata": {
        "id": "At80vw6cD2QD",
        "colab_type": "code",
        "colab": {},
        "cellView": "form"
      },
      "source": [
        "#@title CLICK HERE FOR THE SOLUTION\n",
        "for no in range (10,21,2):\n",
        "  print (no)"
      ],
      "execution_count": null,
      "outputs": []
    },
    {
      "cell_type": "code",
      "metadata": {
        "id": "r4s66_BDFqVE",
        "colab_type": "code",
        "colab": {}
      },
      "source": [
        "# [ ] print numbers 20 to 10 using range (need to countdown)\n",
        "# Hint: start at 20\n",
        "\n"
      ],
      "execution_count": null,
      "outputs": []
    },
    {
      "cell_type": "code",
      "metadata": {
        "id": "6JgVbOaPDv3O",
        "colab_type": "code",
        "colab": {},
        "cellView": "form"
      },
      "source": [
        "#@title CLICK HERE FOR THE SOLUTION\n",
        "for no in range (20,9,-2):"
      ],
      "execution_count": null,
      "outputs": []
    },
    {
      "cell_type": "code",
      "metadata": {
        "id": "wtBr9j3qFqVN",
        "colab_type": "code",
        "colab": {}
      },
      "source": [
        "# [ ] print first and every third word in spell_list\n",
        "spell_list = [\"Tuesday\", \"Wednesday\", \"February\", \"November\", \"Annual\", \"Calendar\", \"Solstice\"]\n"
      ],
      "execution_count": null,
      "outputs": []
    },
    {
      "cell_type": "code",
      "metadata": {
        "id": "1HhUGhqeDpTw",
        "colab_type": "code",
        "colab": {},
        "cellView": "form"
      },
      "source": [
        "#@title CLICK HERE FOR THE SOLUTION\n",
        "spell_list = [\"Tuesday\", \"Wednesday\", \"February\", \"November\", \"Annual\", \"Calendar\", \"Solstice\"]\n",
        "for item in range(0,len(spell_list),3):\n",
        "  print(spell_list[item])"
      ],
      "execution_count": null,
      "outputs": []
    },
    {
      "cell_type": "markdown",
      "metadata": {
        "collapsed": true,
        "id": "YAgdH6C1FqVU",
        "colab_type": "text"
      },
      "source": [
        "# &nbsp;\n",
        "<font size=\"6\" color=\"#B24C00\"  face=\"verdana\"> <B>Task 4</B></font>  \n",
        "\n",
        "### Program: List of letters \n",
        "- Input a word string (**word**)\n",
        "- find the string length of word \n",
        "- **use range()** to iterate through each letter in word (can use to range loops)\n",
        "- Save odd and even letters from the word as lists\n",
        "  - **odd_letters**: starting at index 0,2,...\n",
        "  - **even_letters**: starting at index 1,3,...\n",
        "- print odd and even lists"
      ]
    },
    {
      "cell_type": "code",
      "metadata": {
        "id": "1YHBUwJlFqVV",
        "colab_type": "code",
        "colab": {}
      },
      "source": [
        "# [ ] complete List of letters program- test with the word \"complexity\"\n",
        "\n",
        "\n",
        "\n",
        "  \n",
        "\n",
        "\n",
        "\n"
      ],
      "execution_count": null,
      "outputs": []
    },
    {
      "cell_type": "code",
      "metadata": {
        "id": "uiN9dtYMGSBn",
        "colab_type": "code",
        "colab": {},
        "cellView": "form"
      },
      "source": [
        "#@title CLICK HERE FOR THE SOLUTION\n",
        "word=input('enter a word:' )\n",
        "odd_letters=[]\n",
        "even_letters=[]\n",
        "\n",
        "for letter in range(0,len(word),2):\n",
        "  odd_letters.append(word[letter])\n",
        "\n",
        "for letter in range(1,len(word),2):\n",
        "  even_letters.append(word[letter])\n",
        "\n",
        "print(odd_letters)\n",
        "print(even_letters)"
      ],
      "execution_count": null,
      "outputs": []
    },
    {
      "cell_type": "markdown",
      "metadata": {
        "id": "VotC3gHqFqVd",
        "colab_type": "text"
      },
      "source": [
        "# &nbsp;\n",
        "<font size=\"6\" color=\"#B24C00\"  face=\"verdana\"> <B>Task 5: fix the error</B></font>\n"
      ]
    },
    {
      "cell_type": "code",
      "metadata": {
        "id": "WCuIwajdFqVf",
        "colab_type": "code",
        "colab": {}
      },
      "source": [
        "# [ ] fix the error printing odd numbers 1 - 9\n",
        "for num in range[1,10,2]:\n",
        "    print(num)\n",
        "\n",
        "\n"
      ],
      "execution_count": null,
      "outputs": []
    },
    {
      "cell_type": "code",
      "metadata": {
        "colab_type": "code",
        "id": "OnqizFPNGWVZ",
        "colab": {},
        "cellView": "form"
      },
      "source": [
        "#@title CLICK HERE FOR THE SOLUTION\n",
        "# [ ] fix the error printing odd numbers 1 - 9\n",
        "\n",
        "for num in range(1,10,2):\n",
        "    print(num)\n",
        "\n",
        "\n"
      ],
      "execution_count": null,
      "outputs": []
    },
    {
      "cell_type": "markdown",
      "metadata": {
        "id": "prJjJBbpFqVl",
        "colab_type": "text"
      },
      "source": [
        "[Terms of use](http://go.microsoft.com/fwlink/?LinkID=206977) &nbsp; [Privacy & cookies](https://go.microsoft.com/fwlink/?LinkId=521839) &nbsp; © 2017 Microsoft"
      ]
    }
  ]
}