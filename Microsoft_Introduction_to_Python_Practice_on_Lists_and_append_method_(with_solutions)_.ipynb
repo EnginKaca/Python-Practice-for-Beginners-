{
  "nbformat": 4,
  "nbformat_minor": 0,
  "metadata": {
    "colab": {
      "name": "Microsoft Introduction to Python Practice on Lists and append method (with solutions) .ipynb",
      "provenance": [],
      "authorship_tag": "ABX9TyNuwSicDUi9MHFhFuvhyXtQ",
      "include_colab_link": true
    },
    "kernelspec": {
      "name": "python3",
      "display_name": "Python 3"
    }
  },
  "cells": [
    {
      "cell_type": "markdown",
      "metadata": {
        "id": "view-in-github",
        "colab_type": "text"
      },
      "source": [
        "<a href=\"https://colab.research.google.com/github/EnginKaca/Python-Practice-for-Beginners-/blob/master/Microsoft_Introduction_to_Python_Practice_on_Lists_and_append_method_(with_solutions)_.ipynb\" target=\"_parent\"><img src=\"https://colab.research.google.com/assets/colab-badge.svg\" alt=\"Open In Colab\"/></a>"
      ]
    },
    {
      "cell_type": "markdown",
      "metadata": {
        "id": "vsVQCE8fEVkP",
        "colab_type": "text"
      },
      "source": [
        "WATCH THE VIDEO AND DO THE TASKS\n"
      ]
    },
    {
      "cell_type": "markdown",
      "metadata": {
        "id": "A3Rs3IklxZvk",
        "colab_type": "text"
      },
      "source": [
        "# &nbsp;\n",
        "<font size=\"6\" color=\"#00A0B2\"  face=\"verdana\"> <B>Concepts</B></font>\n",
        "## Appending to Lists\n",
        "[![view video](https://iajupyterprodblobs.blob.core.windows.net/imagecontainer/common/play_video.png)]( http://edxinteractivepage.blob.core.windows.net/edxpages/f7cff1a7-5601-48a1-95a6-fd1fdfabd20e.html?details=[{\"src\":\"http://jupyternootbookwams.streaming.mediaservices.windows.net/121939c6-f81e-4787-a7a9-15ab15c69168/Unit2_Section2.2a-Appending_to_Lists.ism/manifest\",\"type\":\"application/vnd.ms-sstr+xml\"}],[{\"src\":\"http://jupyternootbookwams.streaming.mediaservices.windows.net/121939c6-f81e-4787-a7a9-15ab15c69168/Unit2_Section2.2a-Appending_to_Lists.vtt\",\"srclang\":\"en\",\"kind\":\"subtitles\",\"label\":\"english\"}])\n",
        "**`.append()`** method adds an item to the end of a list   \n",
        "```python\n",
        "party_list.append(\"Alton\")\n",
        "```"
      ]
    },
    {
      "cell_type": "markdown",
      "metadata": {
        "collapsed": true,
        "id": "znibXrsyxZw4",
        "colab_type": "text"
      },
      "source": [
        "# &nbsp;\n",
        "<font size=\"6\" color=\"#B24C00\"  face=\"verdana\"> <B>Task 1</B></font>\n",
        "\n",
        "## `.append()`"
      ]
    },
    {
      "cell_type": "code",
      "metadata": {
        "id": "OZyKpG5SxZw7",
        "colab_type": "code",
        "colab": {}
      },
      "source": [
        "# Currency Values\n",
        "# [ ] create a list of 3 or more currency denomination values, cur_values\n",
        "# cur_values, contains values of coins and paper bills (.01, .05, etc.)\n",
        "# [ ] print the list\n",
        "# [ ] append an item to the list and print the list\n",
        " \n",
        "\n"
      ],
      "execution_count": null,
      "outputs": []
    },
    {
      "cell_type": "code",
      "metadata": {
        "id": "tlQ-ZDV6DC5m",
        "colab_type": "code",
        "cellView": "form",
        "colab": {}
      },
      "source": [
        "#@title Click here for the solution\n",
        "cur_values = [.10,.23,.65,.30,.99]\n",
        "print (cur_values)\n",
        "cur_values.append(.02)\n",
        "print (cur_values)\n",
        "\n"
      ],
      "execution_count": null,
      "outputs": []
    },
    {
      "cell_type": "code",
      "metadata": {
        "id": "PItDcdwPxZxQ",
        "colab_type": "code",
        "colab": {}
      },
      "source": [
        "# Currency Names\n",
        "# [ ] create a list of 3 or more currency denomination NAMES, cur_names\n",
        "# cur_names contains the NAMES of coins and paper bills (penny, etc.)\n",
        "# [ ] print the list\n",
        "# [ ] append an item to the list and print the list\n"
      ],
      "execution_count": null,
      "outputs": []
    },
    {
      "cell_type": "code",
      "metadata": {
        "id": "SY7Cn-sdFrCL",
        "colab_type": "code",
        "cellView": "form",
        "colab": {}
      },
      "source": [
        "#@title Click here for the solution\n",
        "cur_names = ['usd','gbp','aud','try','eur']\n",
        "print (cur_names)\n",
        "cur_names.append('cad')\n",
        "print (cur_names)"
      ],
      "execution_count": null,
      "outputs": []
    },
    {
      "cell_type": "markdown",
      "metadata": {
        "collapsed": true,
        "id": "Kyl7sW9UxZxe",
        "colab_type": "text"
      },
      "source": [
        "# &nbsp;\n",
        "<font size=\"6\" color=\"#B24C00\"  face=\"verdana\"> <B>Task 2</B></font>  \n",
        "## Append items to a list with `input()` "
      ]
    },
    {
      "cell_type": "code",
      "metadata": {
        "id": "bOtXgF8sxZxh",
        "colab_type": "code",
        "colab": {}
      },
      "source": [
        "# [ ] append additional values to the Currency Names list using input()\n",
        "\n",
        "# [ ] print the appended list"
      ],
      "execution_count": null,
      "outputs": []
    },
    {
      "cell_type": "code",
      "metadata": {
        "id": "JIcW-q6fFVdC",
        "colab_type": "code",
        "cellView": "form",
        "colab": {}
      },
      "source": [
        "#@title Click here for the solution\n",
        "x = input('add more: ')\n",
        "cur_names.append(x)\n",
        "print(cur_names)"
      ],
      "execution_count": null,
      "outputs": []
    },
    {
      "cell_type": "markdown",
      "metadata": {
        "id": "UbxK_8C4xZxt",
        "colab_type": "text"
      },
      "source": [
        "# &nbsp;\n",
        "<font size=\"6\" color=\"#B24C00\"  face=\"verdana\"> <B>Task 3</B></font>\n",
        "## `while` loop `.append()`\n",
        "- define an empty list: **`bday_survey`**  \n",
        "- get user input, **`bday`**, asking for the day of the month they were born (1-31) or \"q\" to finish  \n",
        "- using a **`while`** loop  (while user not entering \"quit\")\n",
        "  - append the **`bday`** input to the **`bday_survey`** list  \n",
        "  - get user input, **`bday`**, asking for the day of the month they were born (1-31) or \"q\" to finish    \n",
        "- print bday_survey list  \n"
      ]
    },
    {
      "cell_type": "code",
      "metadata": {
        "id": "HVf0AmYExZxz",
        "colab_type": "code",
        "colab": {}
      },
      "source": [
        "# [ ] complete the Birthday Survey task above\n"
      ],
      "execution_count": null,
      "outputs": []
    },
    {
      "cell_type": "code",
      "metadata": {
        "id": "ZE3nsACMF4p0",
        "colab_type": "code",
        "cellView": "form",
        "colab": {}
      },
      "source": [
        "#@title Click here for the solution\n",
        "\n",
        "bday_survey =[]\n",
        "bday=input('what day were you born on? (enter 1-31 or q to Quit): ')\n",
        "\n",
        "while True:\n",
        "    if (bday!='q'.lower()) and bday.isdigit()==True and int(bday)<32:\n",
        "        bday_survey.append(bday)\n",
        "        bday=input('what day were you born on? (enter 1-31 or q to Quit): ')\n",
        "    elif (bday!='q'.lower()) and bday.isdigit()==False:\n",
        "        print ('wrong entry')\n",
        "        bday=input('what day were you born on? (enter 1-31 or q to Quit): ')\n",
        "    elif (bday!='q'.lower()) and bday.isdigit()==True and int(bday)> 31:\n",
        "        print ('Birthday must be between 1-31')\n",
        "        bday=input('what day were you born on? (enter 1-31 or q to Quit): ')\n",
        "    elif bday=='q'.lower():\n",
        "        print (bday_survey)\n",
        "        break\n"
      ],
      "execution_count": null,
      "outputs": []
    },
    {
      "cell_type": "markdown",
      "metadata": {
        "id": "561O0JdGxZx7",
        "colab_type": "text"
      },
      "source": [
        "# &nbsp;\n",
        "<font size=\"6\" color=\"#B24C00\"  face=\"verdana\"> <B>Task 4</B></font>\n",
        "## Fix The Error\n"
      ]
    },
    {
      "cell_type": "code",
      "metadata": {
        "id": "SbYbHbdoxZx9",
        "colab_type": "code",
        "colab": {}
      },
      "source": [
        "# [ ] Fix the Error\n",
        "three_numbers = [1, 1, 2]\n",
        "print(\"an item in the list is: \", three_numbers[3])\n",
        "\n"
      ],
      "execution_count": null,
      "outputs": []
    },
    {
      "cell_type": "code",
      "metadata": {
        "id": "BsuRPnLnGqFN",
        "colab_type": "code",
        "cellView": "form",
        "colab": {}
      },
      "source": [
        "#@title Click here for the solution\n",
        "# There are only 3 items in the list, so the index goes on 0,1 and 2\n",
        "\n",
        "three_numbers = [1, 1, 2]\n",
        "print(\"an item in the list is: \", three_numbers[2])"
      ],
      "execution_count": null,
      "outputs": []
    },
    {
      "cell_type": "markdown",
      "metadata": {
        "id": "OFC01EOVxZyG",
        "colab_type": "text"
      },
      "source": [
        "[Terms of use](http://go.microsoft.com/fwlink/?LinkID=206977) &nbsp; [Privacy & cookies](https://go.microsoft.com/fwlink/?LinkId=521839) &nbsp; © 2017 Microsoft"
      ]
    }
  ]
}