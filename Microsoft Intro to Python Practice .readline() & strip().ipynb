{
  "nbformat": 4,
  "nbformat_minor": 0,
  "metadata": {
    "anaconda-cloud": {},
    "kernelspec": {
      "display_name": "Python 3",
      "language": "python",
      "name": "python3"
    },
    "language_info": {
      "codemirror_mode": {
        "name": "ipython",
        "version": 3
      },
      "file_extension": ".py",
      "mimetype": "text/x-python",
      "name": "python",
      "nbconvert_exporter": "python",
      "pygments_lexer": "ipython3",
      "version": "3.5.1"
    },
    "colab": {
      "name": "Mod4_2-4.3_Intro_Python.ipynb",
      "provenance": [],
      "include_colab_link": true
    }
  },
  "cells": [
    {
      "cell_type": "markdown",
      "metadata": {
        "id": "view-in-github",
        "colab_type": "text"
      },
      "source": [
        "<a href=\"https://colab.research.google.com/github/EnginKaca/Python-Practice-for-Beginners-/blob/master/Microsoft%20Intro%20to%20Python%20Practice%20.readline()%20%26%20strip().ipynb\" target=\"_parent\"><img src=\"https://colab.research.google.com/assets/colab-badge.svg\" alt=\"Open In Colab\"/></a>"
      ]
    },
    {
      "cell_type": "markdown",
      "metadata": {
        "id": "LzY_fGJVHA0X",
        "colab_type": "text"
      },
      "source": [
        "# 2-4.3 Intro Python\n",
        "## Working with Files\n",
        "4.1 File import in Jupyter Notebooks  \n",
        "4.1 File **`open()`** and **`.read()`**  \n",
        "4.2 File Read as a list with **`.readlines()`**  \n",
        "4.2 File Closing to free resources with **`.close`**  \n",
        "4.3 **File Read, a line at a time with `.readline()`**  \n",
        "4.3 **Remove characters using `.strip()`**  \n",
        "4.4 File **`.write()`**  with **`.seek()`**  \n",
        "4.4 File append mode \n",
        "\n",
        "----- \n",
        "\n",
        "><font size=\"5\" color=\"#00A0B2\"  face=\"verdana\"> <B>Student will be able to</B></font>  \n",
        "4.1 Import files in Jupyter Notebooks  \n",
        "4.1 **`open()`** and **`.read()`** local files in memory   \n",
        "4.1 **`.read()`** a specific number of characters  \n",
        "4.2 Use **`.readlines()`** to read data from file as a **list** of lines   \n",
        "4.2 Use **`.close`** to free system resources  \n",
        "4.3 **Use `.readline()` to read data from file, one line at a time**  \n",
        "4.3 **Use `.strip()` to remove new line characters and other whitespaces**  \n",
        "4.4 **`.write()`** data to a new local file\n",
        "4.4 Use **`.seek()`** to set file read or write location  \n",
        "4.4 Use file append mode"
      ]
    },
    {
      "cell_type": "markdown",
      "metadata": {
        "id": "RT5OOOgcHA0c",
        "colab_type": "text"
      },
      "source": [
        "# &nbsp;\n",
        "<font size=\"6\" color=\"#00A0B2\"  face=\"verdana\"> <B>Concepts</B></font>\n",
        "## .readline(): read files a line at a time\n",
        "[![view video](https://iajupyterprodblobs.blob.core.windows.net/imagecontainer/common/play_video.png)]( http://edxinteractivepage.blob.core.windows.net/edxpages/f7cff1a7-5601-48a1-95a6-fd1fdfabd20e.html?details=[{\"src\":\"http://jupyternootbookwams.streaming.mediaservices.windows.net/8f41bf3b-05b1-459e-87e9-419168b2bf0d/Unit2_Section4.3a-Readlines-Line_by_Line.ism/manifest\",\"type\":\"application/vnd.ms-sstr+xml\"}],[{\"src\":\"http://jupyternootbookwams.streaming.mediaservices.windows.net/8f41bf3b-05b1-459e-87e9-419168b2bf0d/Unit2_Section4.3a-Readlines-Line_by_Line.vtt\",\"srclang\":\"en\",\"kind\":\"subtitles\",\"label\":\"english\"}])\n",
        "### use .readline() to read a line in a file as a string\n",
        "each .readline() moves to the next available line in the file\n",
        "```python\n",
        "poem1 = open('poem1.txt', 'r')\n",
        "poem_line1 = poem1.readline()\n",
        "poem_line2 = poem1.readline()\n",
        "poem_line3 = poem1.readline()\n",
        "```"
      ]
    },
    {
      "cell_type": "markdown",
      "metadata": {
        "id": "sB1C_trfHA0g",
        "colab_type": "text"
      },
      "source": [
        "# &nbsp;\n",
        "<font size=\"6\" color=\"#00A0B2\"  face=\"verdana\"> <B>Examples</B></font>"
      ]
    },
    {
      "cell_type": "code",
      "metadata": {
        "id": "QuRQ0ZELHA0k",
        "colab_type": "code",
        "colab": {}
      },
      "source": [
        "# [ ]Run to download file poem1.txt\n",
        "!curl https://raw.githubusercontent.com/MicrosoftLearning/intropython/master/poem1.txt -o poem1.txt "
      ],
      "execution_count": null,
      "outputs": []
    },
    {
      "cell_type": "code",
      "metadata": {
        "id": "vfxkG1uvHA0u",
        "colab_type": "code",
        "colab": {}
      },
      "source": [
        "# [ ] review and run example\n",
        "# open address to file\n",
        "poem1 = open('poem1.txt', 'r')"
      ],
      "execution_count": null,
      "outputs": []
    },
    {
      "cell_type": "code",
      "metadata": {
        "id": "Oa7fuIP8HA01",
        "colab_type": "code",
        "colab": {}
      },
      "source": [
        "# [ ] review and run example\n",
        "# readline 1, 2, 3\n",
        "poem_line1 = poem1.readline()\n",
        "poem_line2 = poem1.readline()\n",
        "poem_line3 = poem1.readline()"
      ],
      "execution_count": null,
      "outputs": []
    },
    {
      "cell_type": "code",
      "metadata": {
        "id": "vYAcEa6mHA09",
        "colab_type": "code",
        "colab": {}
      },
      "source": [
        "# [ ] review and run example: print the first 3 .readline() values\n",
        "print(poem_line1 + poem_line2 + poem_line3)"
      ],
      "execution_count": null,
      "outputs": []
    },
    {
      "cell_type": "code",
      "metadata": {
        "id": "8fYA5mr3HA1E",
        "colab_type": "code",
        "colab": {}
      },
      "source": [
        "# [ ] review and run example printing return value & re-run several times\n",
        "print(poem1.readline())"
      ],
      "execution_count": null,
      "outputs": []
    },
    {
      "cell_type": "code",
      "metadata": {
        "id": "ruBpAKuTHA1L",
        "colab_type": "code",
        "colab": {}
      },
      "source": [
        "# [ ] review and run example to close file in memory- then run previous cell\n",
        "\n",
        "poem1.close()"
      ],
      "execution_count": null,
      "outputs": []
    },
    {
      "cell_type": "markdown",
      "metadata": {
        "collapsed": true,
        "id": "TXBty3TmHA1T",
        "colab_type": "text"
      },
      "source": [
        "# &nbsp;\n",
        "<font size=\"6\" color=\"#B24C00\"  face=\"verdana\"> <B>Task 1</B></font>\n",
        "\n",
        "## use readline to get rainbow colors\n",
        "- import https://raw.githubusercontent.com/MicrosoftLearning/intropython/master/rainbow as rainbow.txt  \n",
        "- open rainbow.txt as rainbow_file as read-only  \n",
        "- read the first 3 lines into variables: color1, color2, color3  \n",
        "- close rainbow_file \n",
        "- print the first 3 colors  "
      ]
    },
    {
      "cell_type": "code",
      "metadata": {
        "id": "x9fod61iHA1V",
        "colab_type": "code",
        "colab": {}
      },
      "source": [
        "# [ ] import https://raw.githubusercontent.com/MicrosoftLearning/intropython/master/rainbow as rainbow.txt\n"
      ],
      "execution_count": null,
      "outputs": []
    },
    {
      "cell_type": "code",
      "metadata": {
        "id": "VWiSnmwfHA1c",
        "colab_type": "code",
        "colab": {}
      },
      "source": [
        "# [ ] open rainbow.txt as rainbow_text\n",
        "\n"
      ],
      "execution_count": null,
      "outputs": []
    },
    {
      "cell_type": "code",
      "metadata": {
        "id": "34nrOgnJHA1i",
        "colab_type": "code",
        "colab": {}
      },
      "source": [
        "# [ ] read the first 3 lines into variables: color1, color2, color3\n",
        "\n"
      ],
      "execution_count": null,
      "outputs": []
    },
    {
      "cell_type": "code",
      "metadata": {
        "id": "c8EmFVuDHA1p",
        "colab_type": "code",
        "colab": {}
      },
      "source": [
        "# [ ] close rainbow.txt\n",
        "\n"
      ],
      "execution_count": null,
      "outputs": []
    },
    {
      "cell_type": "code",
      "metadata": {
        "id": "J5_6RgXTHA1w",
        "colab_type": "code",
        "colab": {}
      },
      "source": [
        "# [ ] print the first 3 colors\n",
        "\n"
      ],
      "execution_count": null,
      "outputs": []
    },
    {
      "cell_type": "code",
      "metadata": {
        "id": "qizaCMKPVzOZ",
        "colab_type": "code",
        "colab": {},
        "cellView": "form"
      },
      "source": [
        "#@title Click here for the solution\n",
        "! curl https://raw.githubusercontent.com/MicrosoftLearning/intropython/master/rainbow -o rainbow.txt\n",
        "rainbow_file = open ('rainbow.txt', 'r')\n",
        "\n",
        "color1= rainbow_file.readline()\n",
        "color2= rainbow_file.readline()\n",
        "color3= rainbow_file.readline()\n",
        "rainbow_file.close()\n",
        "\n",
        "print(color1+color2+color3)"
      ],
      "execution_count": null,
      "outputs": []
    },
    {
      "cell_type": "markdown",
      "metadata": {
        "id": "ewV0MImEHA15",
        "colab_type": "text"
      },
      "source": [
        "# &nbsp;\n",
        "<font size=\"6\" color=\"#00A0B2\"  face=\"verdana\"> <B>Concepts</B></font>\n",
        "## `.readline()` in a `while` loop\n",
        ">```python\n",
        "poem_line = poem1.readline()\n",
        "while poem_line:\n",
        "    print(poem_line.capitalized())\n",
        "    poem_line = poem1.readline()\n",
        "```  \n",
        "[![view video](https://iajupyterprodblobs.blob.core.windows.net/imagecontainer/common/play_video.png)]( http://edxinteractivepage.blob.core.windows.net/edxpages/f7cff1a7-5601-48a1-95a6-fd1fdfabd20e.html?details=[{\"src\":\"http://jupyternootbookwams.streaming.mediaservices.windows.net/4662ff60-8839-4fd7-a85d-3aba9ebf8cd3/Unit2_Section4.3b-Readlines-While_Loops.ism/manifest\",\"type\":\"application/vnd.ms-sstr+xml\"}],[{\"src\":\"http://jupyternootbookwams.streaming.mediaservices.windows.net/4662ff60-8839-4fd7-a85d-3aba9ebf8cd3/Unit2_Section4.3b-Readlines-While_Loops.vtt\",\"srclang\":\"en\",\"kind\":\"subtitles\",\"label\":\"english\"}])\n",
        "### `while .readline()` \n",
        "- while loop continues while the readline() value in poem_line returns text  \n",
        "  - a string value evaluates as True in the while loop  \n",
        "  - an empty string, '', evaluates **not True** in the while loop \n",
        "- when readline() reaches the end of the file, an empty string is returned  \n"
      ]
    },
    {
      "cell_type": "markdown",
      "metadata": {
        "id": "Hzk3AkkBHA17",
        "colab_type": "text"
      },
      "source": [
        "### &nbsp;\n",
        "<font size=\"6\" color=\"#00A0B2\"  face=\"verdana\"> <B>Examples</B></font>"
      ]
    },
    {
      "cell_type": "code",
      "metadata": {
        "id": "tXYqe0FNHA18",
        "colab_type": "code",
        "colab": {}
      },
      "source": [
        "# [ ] review and run example\n",
        "# open address to file\n",
        "poem1 = open('poem1.txt', 'r')"
      ],
      "execution_count": null,
      "outputs": []
    },
    {
      "cell_type": "code",
      "metadata": {
        "id": "NbZT2r58HA2C",
        "colab_type": "code",
        "colab": {}
      },
      "source": [
        "# [ ] review and run example - use a while loop to read each line of a file \n",
        "#  remove last character ('\\n') and print as upper case\n",
        "poem_line = poem1.readline()\n",
        "\n",
        "while poem_line:\n",
        "    print(poem_line[:-1].upper())\n",
        "    poem_line = poem1.readline()"
      ],
      "execution_count": null,
      "outputs": []
    },
    {
      "cell_type": "code",
      "metadata": {
        "id": "1xn8rQizHA2I",
        "colab_type": "code",
        "colab": {}
      },
      "source": [
        "# [ ] review and run example\n",
        "poem1.close()"
      ],
      "execution_count": null,
      "outputs": []
    },
    {
      "cell_type": "markdown",
      "metadata": {
        "collapsed": true,
        "id": "0ARnhiVOHA2Q",
        "colab_type": "text"
      },
      "source": [
        "# &nbsp;\n",
        "<font size=\"6\" color=\"#B24C00\"  face=\"verdana\"> <B>Task 2</B></font>\n",
        "\n",
        "## while .readline()  rainbow colors\n",
        "assumes rainbow.txt has been imported in task 1  \n",
        "- open rainbow.txt as rainbow_file as read-only  \n",
        "- read a color from each line of rainbow_file in a while loop  \n",
        "  - print each color capitalized  \n",
        "- close rainbow_file  "
      ]
    },
    {
      "cell_type": "code",
      "metadata": {
        "id": "50KvWlitHA2S",
        "colab_type": "code",
        "colab": {}
      },
      "source": [
        "# [ ] open rainbow.txt as rainbow_text as read-only\n",
        "\n"
      ],
      "execution_count": null,
      "outputs": []
    },
    {
      "cell_type": "code",
      "metadata": {
        "id": "SoK8h9J_HA2Y",
        "colab_type": "code",
        "colab": {}
      },
      "source": [
        "# [ ] read the color from lines of rainbow_text in a while loop\n",
        "# [ ] print each color capitalized as the loop runs\n",
        "\n"
      ],
      "execution_count": null,
      "outputs": []
    },
    {
      "cell_type": "code",
      "metadata": {
        "id": "2tVno8BZHA2g",
        "colab_type": "code",
        "colab": {}
      },
      "source": [
        "# [ ] close rainbow_text \n",
        "\n"
      ],
      "execution_count": null,
      "outputs": []
    },
    {
      "cell_type": "code",
      "metadata": {
        "id": "dMmKDLrUIzsa",
        "colab_type": "code",
        "colab": {},
        "cellView": "form"
      },
      "source": [
        "#@title Click here for the solution\n",
        "!curl https://raw.githubusercontent.com/MicrosoftLearning/intropython/master/rainbow -o rainbow.txt\n",
        "rainbow_text = open('rainbow.txt','r')\n",
        "\n",
        "rainbow_lines = rainbow_text.readline()\n",
        "while rainbow_lines:\n",
        "  print (rainbow_lines.title())\n",
        "  rainbow_lines = rainbow_text.readline()\n"
      ],
      "execution_count": null,
      "outputs": []
    },
    {
      "cell_type": "markdown",
      "metadata": {
        "id": "CrssxLIWHA2p",
        "colab_type": "text"
      },
      "source": [
        "# &nbsp;\n",
        "<font size=\"6\" color=\"#00A0B2\"  face=\"verdana\"> <B>Concepts</B></font>  \n",
        "\n",
        "## `.readline()`  with `.strip()`\n",
        "[![view video](https://iajupyterprodblobs.blob.core.windows.net/imagecontainer/common/play_video.png)]( http://edxinteractivepage.blob.core.windows.net/edxpages/f7cff1a7-5601-48a1-95a6-fd1fdfabd20e.html?details=[{\"src\":\"http://jupyternootbookwams.streaming.mediaservices.windows.net/809d6b2c-1be9-4bea-8702-9eb328b9f551/Unit2_Section4.3c-Remove_Whitespace.ism/manifest\",\"type\":\"application/vnd.ms-sstr+xml\"}],[{\"src\":\"http://jupyternootbookwams.streaming.mediaservices.windows.net/809d6b2c-1be9-4bea-8702-9eb328b9f551/Unit2_Section4.3c-Remove_Whitespace.vtt\",\"srclang\":\"en\",\"kind\":\"subtitles\",\"label\":\"english\"}])\n",
        "### .strip() whitespace\n",
        "```python\n",
        "poem_line = poem1.readline().strip()\n",
        "```\n",
        "**.strip()** removes leading and trailing whitespace, including the '\\n' formatting character"
      ]
    },
    {
      "cell_type": "markdown",
      "metadata": {
        "id": "tY-u3yETHA2r",
        "colab_type": "text"
      },
      "source": [
        "# &nbsp;\n",
        "<font size=\"6\" color=\"#00A0B2\"  face=\"verdana\"> <B>Examples</B></font>"
      ]
    },
    {
      "cell_type": "code",
      "metadata": {
        "id": "kDRLKBXOHA2t",
        "colab_type": "code",
        "colab": {}
      },
      "source": [
        "# [ ] review and run example\n",
        "# open address to file\n",
        "poem1 = open('poem1.txt', 'r')\n"
      ],
      "execution_count": null,
      "outputs": []
    },
    {
      "cell_type": "code",
      "metadata": {
        "id": "yyNpZfOZHA2z",
        "colab_type": "code",
        "colab": {}
      },
      "source": [
        "# [ ] review and run example - readline while loop without removing '\\n'\n",
        "poem_line = poem1.readlines()\n",
        "\n",
        "while poem_line:\n",
        "    print(poem_line)\n",
        "    poem_line = poem1.readline()\n",
        "\n",
        "poem1.close()"
      ],
      "execution_count": null,
      "outputs": []
    },
    {
      "cell_type": "markdown",
      "metadata": {
        "id": "vg15b4lSHA25",
        "colab_type": "text"
      },
      "source": [
        "### now with `.strip()` to remove leading and trailing whitespace characters"
      ]
    },
    {
      "cell_type": "code",
      "metadata": {
        "id": "HcmI_t6XHA27",
        "colab_type": "code",
        "colab": {}
      },
      "source": [
        "# [ ] review and run example - readline with .strip() to remove '\\n'\n",
        "poem1 = open('poem1.txt', 'r')\n",
        "poem_line = poem1.readline().strip()\n",
        "\n",
        "while poem_line:\n",
        "    print(poem_line)\n",
        "    poem_line = poem1.readline().strip()\n",
        "    \n",
        "poem1.close()"
      ],
      "execution_count": null,
      "outputs": []
    },
    {
      "cell_type": "markdown",
      "metadata": {
        "collapsed": true,
        "id": "tY28wiSIHA3B",
        "colab_type": "text"
      },
      "source": [
        "# &nbsp;\n",
        "<font size=\"6\" color=\"#B24C00\"  face=\"verdana\"> <B>Task 3</B></font>  \n",
        "## `.readline()`  with `.strip()` rainbow colors\n",
        "assumes rainbow.tx has been imported in task 1  \n",
        "- open rainbow.txt as rainbow_file as read-only  \n",
        "- read a color from each line of rainbow_file in a while loop  \n",
        "  - use .strip to remove the whitespace  \n",
        "  - print each color upper case  \n",
        "- close rainbow_file "
      ]
    },
    {
      "cell_type": "code",
      "metadata": {
        "id": "js9oXHyRHA3C",
        "colab_type": "code",
        "colab": {}
      },
      "source": [
        "# [ ] open rainbow.txt as rainbow_text as read-only  \n",
        "\n"
      ],
      "execution_count": null,
      "outputs": []
    },
    {
      "cell_type": "code",
      "metadata": {
        "id": "mUHCrD5xHA3I",
        "colab_type": "code",
        "colab": {}
      },
      "source": [
        "# [ ] read a color from each line of rainbow_text in a while loop  \n",
        "# use .strip to remove the whitespace '\\n' character \n",
        "# print each color upper case \n",
        "\n"
      ],
      "execution_count": null,
      "outputs": []
    },
    {
      "cell_type": "code",
      "metadata": {
        "id": "d4buxWcdQmy4",
        "colab_type": "code",
        "colab": {},
        "cellView": "form"
      },
      "source": [
        "#@title Click here for the solution\n",
        "!curl https://raw.githubusercontent.com/MicrosoftLearning/intropython/master/rainbow -o 'rainbow.txt'\n",
        "rainbow_text = open ('rainbow.txt','r')\n",
        "rainbow_lines = rainbow_text.readline().strip()\n",
        "while rainbow_lines:\n",
        "  print (rainbow_lines.upper())\n",
        "  rainbow_lines = rainbow_text.readline().strip()\n"
      ],
      "execution_count": null,
      "outputs": []
    },
    {
      "cell_type": "markdown",
      "metadata": {
        "collapsed": true,
        "id": "pKd_ppX-HA3P",
        "colab_type": "text"
      },
      "source": [
        "# &nbsp;\n",
        "<font size=\"6\" color=\"#00A0B2\"  face=\"verdana\"> <B>Concepts</B></font>  \n",
        "\n",
        "## `.strip()` with arguments\n",
        "[![view video](https://iajupyterprodblobs.blob.core.windows.net/imagecontainer/common/play_video.png)]( http://edxinteractivepage.blob.core.windows.net/edxpages/f7cff1a7-5601-48a1-95a6-fd1fdfabd20e.html?details=[{\"src\":\"http://jupyternootbookwams.streaming.mediaservices.windows.net/98672edd-b2c5-4478-aaec-42154a5b97c8/Unit2_Section4.3d-Strip_Arguments.ism/manifest\",\"type\":\"application/vnd.ms-sstr+xml\"}],[{\"src\":\"http://jupyternootbookwams.streaming.mediaservices.windows.net/98672edd-b2c5-4478-aaec-42154a5b97c8/Unit2_Section4.3d-Strip_Arguments.vtt\",\"srclang\":\"en\",\"kind\":\"subtitles\",\"label\":\"english\"}])\n",
        "### .strip() arguments\n",
        "```python\n",
        "color = rainbow_messy.readline().strip('*\\n*')\n",
        "```\n",
        "**`.strip('*\\n')`** removes leading and trailing **`*`** and **\\n**"
      ]
    },
    {
      "cell_type": "markdown",
      "metadata": {
        "id": "fP8f6j7iHA3R",
        "colab_type": "text"
      },
      "source": [
        "### &nbsp;\n",
        "<font size=\"6\" color=\"#00A0B2\"  face=\"verdana\"> <B>Examples</B></font>"
      ]
    },
    {
      "cell_type": "code",
      "metadata": {
        "id": "io0pnBsWHA3T",
        "colab_type": "code",
        "colab": {}
      },
      "source": [
        "# [ ] review and run example: import rainbow_messy.txt\n",
        "!curl https://raw.githubusercontent.com/MicrosoftLearning/intropython/master/rainbow_messy -o rainbow_messy.txt"
      ],
      "execution_count": null,
      "outputs": []
    },
    {
      "cell_type": "code",
      "metadata": {
        "id": "r2FrSeNDHA3d",
        "colab_type": "code",
        "colab": {}
      },
      "source": [
        "# [ ] review and run example: open file read only\n",
        "rainbow_messy = open('rainbow_messy.txt', 'r')"
      ],
      "execution_count": null,
      "outputs": []
    },
    {
      "cell_type": "code",
      "metadata": {
        "id": "iUTbZQ6rHA3k",
        "colab_type": "code",
        "colab": {}
      },
      "source": [
        "# [ ] review and run example: .readline() without .strip()\n",
        "\n",
        "color = rainbow_messy.readline()\n",
        "\n",
        "while color:\n",
        "    print(color)\n",
        "    color = rainbow_messy.readline()"
      ],
      "execution_count": null,
      "outputs": []
    },
    {
      "cell_type": "code",
      "metadata": {
        "id": "9XVWatHVHA3y",
        "colab_type": "code",
        "colab": {}
      },
      "source": [
        "# [ ] review and run example: strip \"*\" and newline ('\\n')\n",
        "rainbow_messy = open('rainbow_messy.txt', 'r')\n",
        "\n",
        "color = rainbow_messy.readline().strip('*\\n')\n",
        "\n",
        "while color:\n",
        "    print(color)\n",
        "    color = rainbow_messy.readline().strip('*\\n')\n",
        "\n",
        "rainbow_messy.close()"
      ],
      "execution_count": null,
      "outputs": []
    },
    {
      "cell_type": "markdown",
      "metadata": {
        "collapsed": true,
        "id": "Q4xb2_HVHA34",
        "colab_type": "text"
      },
      "source": [
        "# &nbsp;\n",
        "<font size=\"6\" color=\"#B24C00\"  face=\"verdana\"> <B>Task 4</B></font>  \n",
        "## `.strip()` with arguments\n",
        "- run import of cities_messy.txt below at least once this notebook session\n",
        "- run open cities_messy.txt below before each test of the while loop cell\n",
        "- edit while loop to strip the colon ':' , newline and spaces\n",
        "- close cities_messy"
      ]
    },
    {
      "cell_type": "code",
      "metadata": {
        "id": "ltIZ1RwRHA35",
        "colab_type": "code",
        "colab": {}
      },
      "source": [
        "# [ ] import the file\n",
        "!curl https://raw.githubusercontent.com/MicrosoftLearning/intropython/master/cities_messy -o cities_messy.txt"
      ],
      "execution_count": null,
      "outputs": []
    },
    {
      "cell_type": "code",
      "metadata": {
        "id": "Si3yOlRRHA3_",
        "colab_type": "code",
        "colab": {}
      },
      "source": [
        "# [ ] run to read the file into memory\n",
        "cities_messy = open('cities_messy.txt', 'r')"
      ],
      "execution_count": null,
      "outputs": []
    },
    {
      "cell_type": "code",
      "metadata": {
        "id": "-rBcQ6TSHA4I",
        "colab_type": "code",
        "colab": {}
      },
      "source": [
        "# [ ] edit the code to remove leading or trailing colon, newline and space characters\n",
        "line = cities_messy.readline()\n",
        "while line:\n",
        "    print(line)\n",
        "    line = cities_messy.readline()"
      ],
      "execution_count": null,
      "outputs": []
    },
    {
      "cell_type": "code",
      "metadata": {
        "id": "OIM_C0qvfcEE",
        "colab_type": "code",
        "colab": {},
        "cellView": "form"
      },
      "source": [
        "#@title Click here for the solution\n",
        "# [ ] edit the code to remove leading or trailing colon, newline and space characters\n",
        "line = cities_messy.readline().strip(':\\n ')\n",
        "\n",
        "while line:\n",
        "    print(line)\n",
        "    line = cities_messy.readline().strip(':\\n ')"
      ],
      "execution_count": null,
      "outputs": []
    },
    {
      "cell_type": "markdown",
      "metadata": {
        "id": "izplQwqRHA4P",
        "colab_type": "text"
      },
      "source": [
        "# &nbsp;\n",
        "<font size=\"6\" color=\"#B24C00\"  face=\"verdana\"> <B>Task 5</B></font>  \n",
        "## `.strip()` parentheses from poem2_messy\n",
        "\n",
        "- import https://raw.githubusercontent.com/MicrosoftLearning/intropython/master/poem2_messy as poem2_messy.txt  \n",
        "- open poem2_messy.txt as poem2_messy in read mode  \n",
        "- edit while loop to strip the leading and trailing parentheses & print the poem without blank lines  \n",
        "- close poem2_messy"
      ]
    },
    {
      "cell_type": "code",
      "metadata": {
        "id": "vFEZa5HNHA4Q",
        "colab_type": "code",
        "colab": {}
      },
      "source": [
        "# [ ] import https://raw.githubusercontent.com/MicrosoftLearning/intropython/master/poem2_messy as poem2_messy.txt  \n",
        "\n"
      ],
      "execution_count": null,
      "outputs": []
    },
    {
      "cell_type": "code",
      "metadata": {
        "id": "Y0dVljM7HA4V",
        "colab_type": "code",
        "colab": {}
      },
      "source": [
        "# [ ] open poem2_messy.txt as poem2_messy in read mode\n",
        "\n"
      ],
      "execution_count": null,
      "outputs": []
    },
    {
      "cell_type": "code",
      "metadata": {
        "id": "M6rxGreeHA4b",
        "colab_type": "code",
        "colab": {}
      },
      "source": [
        "# [ ] edit while loop to strip the leading and trailing parentheses, and newlines\n",
        "# [ ] print the poem \n",
        "line = poem2_messy.readline()\n",
        "\n",
        "while line:\n",
        "    print(line)\n",
        "    line = poem2_messy.readline()\n",
        "\n",
        "\n"
      ],
      "execution_count": null,
      "outputs": []
    },
    {
      "cell_type": "code",
      "metadata": {
        "id": "1sfkFnbxfArZ",
        "colab_type": "code",
        "colab": {},
        "cellView": "form"
      },
      "source": [
        "#@title Click here for the solution\n",
        "# [ ] import https://raw.githubusercontent.com/MicrosoftLearning/intropython/master/poem2_messy as poem2_messy.txt  \n",
        "!curl https://raw.githubusercontent.com/MicrosoftLearning/intropython/master/poem2_messy -o poem2_messy.txt\n",
        "\n",
        "\n",
        "# [ ] open poem2_messy.txt as poem2_messy in read mode\n",
        "poem2_messy = open('poem2_messy.txt')\n",
        "\n",
        "# [ ] edit while loop to strip the leading and trailing parentheses, and newlines\n",
        "# [ ] print the poem \n",
        "\n",
        "line = poem2_messy.readline().strip('()\\n')\n",
        "while line:\n",
        "    print(line)\n",
        "    line = poem2_messy.readline().strip('()\\n')\n",
        "\n",
        "\n"
      ],
      "execution_count": null,
      "outputs": []
    },
    {
      "cell_type": "markdown",
      "metadata": {
        "collapsed": true,
        "id": "bdtftfV3HA4h",
        "colab_type": "text"
      },
      "source": [
        "[Terms of use](http://go.microsoft.com/fwlink/?LinkID=206977) &nbsp; [Privacy & cookies](https://go.microsoft.com/fwlink/?LinkId=521839) &nbsp; © 2017 Microsoft"
      ]
    }
  ]
}